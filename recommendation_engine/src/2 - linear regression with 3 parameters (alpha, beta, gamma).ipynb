{
 "cells": [
  {
   "cell_type": "code",
   "execution_count": 2,
   "metadata": {
    "collapsed": true,
    "deletable": true,
    "editable": true
   },
   "outputs": [],
   "source": [
    "# imports\n",
    "import pandas as pd\n",
    "import numpy as np\n",
    "import statsmodels.formula.api as sm\n",
    "import scipy.sparse as sp\n",
    "from scipy.sparse.linalg import svds\n",
    "import os\n",
    "import random"
   ]
  },
  {
   "cell_type": "code",
   "execution_count": 3,
   "metadata": {
    "collapsed": true,
    "deletable": true,
    "editable": true
   },
   "outputs": [],
   "source": [
    "# dataset root\n",
    "root_dataset_folder = os.path.join('..', 'data', 'ml-100k')\n",
    "\n",
    "# u.user (Users)\n",
    "user_columns = [\n",
    "    'user_id', \n",
    "    'age', \n",
    "    'sex', \n",
    "    'occupation', \n",
    "    'zip_code'\n",
    "]\n",
    "users = pd.read_csv(os.path.join(root_dataset_folder, 'u.user'), sep='|', names=user_columns, encoding='latin-1')\n",
    "\n",
    "# u.items (Movies)\n",
    "movie_columns = [\n",
    "    'movie_id', \n",
    "    'movie_title' ,\n",
    "    'release_date',\n",
    "    'video_release_date', \n",
    "    'IMDb_URL', \n",
    "    'unknown', \n",
    "    'Action', \n",
    "    'Adventure', \n",
    "    'Animation', \n",
    "    'Children\\'s', \n",
    "    'Comedy', \n",
    "    'Crime', \n",
    "    'Documentary', \n",
    "    'Drama', \n",
    "    'Fantasy', \n",
    "    'Film-Noir', \n",
    "    'Horror', \n",
    "    'Musical', \n",
    "    'Mystery', \n",
    "    'Romance', \n",
    "    'Sci-Fi', \n",
    "    'Thriller', \n",
    "    'War',\n",
    "    'Western'\n",
    "]\n",
    "movies = pd.read_csv(os.path.join(root_dataset_folder, 'u.item'), sep='|', names=movie_columns, encoding='latin-1')\n",
    "\n",
    "# (Ratings)\n",
    "rating_columns = [\n",
    "    'user_id', \n",
    "    'movie_id', \n",
    "    'rating', \n",
    "    'unix_timestamp'\n",
    "]\n",
    "# ua.base\n",
    "data_base = pd.read_csv(os.path.join(root_dataset_folder, 'ua.base'), sep='\\t', names=rating_columns, encoding='latin-1')\n",
    "# ua.test\n",
    "data_test = pd.read_csv(os.path.join(root_dataset_folder, 'ua.test'), sep='\\t', names=rating_columns, encoding='latin-1')"
   ]
  },
  {
   "cell_type": "code",
   "execution_count": 4,
   "metadata": {
    "collapsed": false,
    "deletable": true,
    "editable": true
   },
   "outputs": [
    {
     "name": "stdout",
     "output_type": "stream",
     "text": [
      "movie_id  1     2     3     4     5     6     7     8     9     10    ...   \\\n",
      "user_id                                                               ...    \n",
      "1          5.0   3.0   4.0   3.0   3.0   5.0   4.0   1.0   5.0   3.0  ...    \n",
      "2          4.0   NaN   NaN   NaN   NaN   NaN   NaN   NaN   NaN   2.0  ...    \n",
      "3          NaN   NaN   NaN   NaN   NaN   NaN   NaN   NaN   NaN   NaN  ...    \n",
      "4          NaN   NaN   NaN   NaN   NaN   NaN   NaN   NaN   NaN   NaN  ...    \n",
      "5          NaN   NaN   NaN   NaN   NaN   NaN   NaN   NaN   NaN   NaN  ...    \n",
      "6          4.0   NaN   NaN   NaN   NaN   NaN   2.0   4.0   4.0   NaN  ...    \n",
      "7          NaN   NaN   NaN   5.0   NaN   NaN   5.0   5.0   5.0   4.0  ...    \n",
      "8          NaN   NaN   NaN   NaN   NaN   NaN   3.0   NaN   NaN   NaN  ...    \n",
      "9          NaN   NaN   NaN   NaN   NaN   NaN   4.0   NaN   NaN   NaN  ...    \n",
      "10         4.0   NaN   NaN   4.0   NaN   NaN   NaN   NaN   4.0   NaN  ...    \n",
      "11         NaN   NaN   NaN   NaN   NaN   NaN   NaN   4.0   5.0   NaN  ...    \n",
      "12         NaN   NaN   NaN   5.0   NaN   NaN   NaN   NaN   NaN   NaN  ...    \n",
      "13         3.0   3.0   NaN   5.0   1.0   NaN   2.0   4.0   3.0   NaN  ...    \n",
      "14         NaN   NaN   NaN   NaN   NaN   NaN   5.0   NaN   4.0   NaN  ...    \n",
      "15         1.0   NaN   NaN   NaN   NaN   NaN   1.0   NaN   4.0   NaN  ...    \n",
      "16         5.0   NaN   NaN   5.0   NaN   NaN   5.0   NaN   5.0   NaN  ...    \n",
      "17         NaN   NaN   NaN   NaN   NaN   NaN   4.0   NaN   NaN   NaN  ...    \n",
      "18         5.0   NaN   NaN   3.0   NaN   5.0   NaN   5.0   5.0   NaN  ...    \n",
      "19         NaN   NaN   NaN   NaN   NaN   NaN   NaN   5.0   NaN   NaN  ...    \n",
      "20         3.0   NaN   NaN   NaN   NaN   NaN   NaN   NaN   NaN   NaN  ...    \n",
      "21         5.0   NaN   NaN   NaN   2.0   NaN   5.0   NaN   5.0   NaN  ...    \n",
      "22         NaN   2.0   NaN   5.0   NaN   NaN   NaN   NaN   NaN   NaN  ...    \n",
      "23         5.0   NaN   NaN   NaN   NaN   NaN   4.0   4.0   NaN   NaN  ...    \n",
      "24         NaN   NaN   NaN   NaN   NaN   NaN   4.0   5.0   5.0   NaN  ...    \n",
      "25         5.0   NaN   NaN   NaN   NaN   NaN   4.0   4.0   NaN   NaN  ...    \n",
      "26         3.0   NaN   NaN   NaN   NaN   NaN   3.0   NaN   4.0   NaN  ...    \n",
      "27         NaN   NaN   NaN   NaN   NaN   NaN   NaN   NaN   4.0   NaN  ...    \n",
      "28         NaN   NaN   NaN   NaN   3.0   NaN   NaN   NaN   NaN   NaN  ...    \n",
      "29         NaN   NaN   NaN   NaN   NaN   NaN   NaN   NaN   NaN   NaN  ...    \n",
      "30         NaN   3.0   NaN   NaN   NaN   NaN   4.0   NaN   NaN   NaN  ...    \n",
      "...        ...   ...   ...   ...   ...   ...   ...   ...   ...   ...  ...    \n",
      "914        NaN   NaN   NaN   NaN   NaN   NaN   NaN   NaN   NaN   NaN  ...    \n",
      "915        NaN   NaN   NaN   NaN   NaN   NaN   NaN   NaN   NaN   NaN  ...    \n",
      "916        4.0   3.0   3.0   4.0   3.0   NaN   4.0   NaN   5.0   NaN  ...    \n",
      "917        3.0   NaN   1.0   NaN   NaN   NaN   NaN   NaN   5.0   NaN  ...    \n",
      "918        3.0   NaN   NaN   NaN   NaN   NaN   NaN   NaN   NaN   NaN  ...    \n",
      "919        4.0   NaN   NaN   1.0   4.0   NaN   3.0   NaN   5.0   NaN  ...    \n",
      "920        NaN   NaN   NaN   NaN   NaN   NaN   NaN   NaN   NaN   NaN  ...    \n",
      "921        NaN   NaN   NaN   NaN   NaN   NaN   NaN   NaN   NaN   NaN  ...    \n",
      "922        5.0   NaN   NaN   NaN   NaN   NaN   NaN   NaN   NaN   NaN  ...    \n",
      "923        3.0   NaN   4.0   NaN   NaN   NaN   NaN   NaN   4.0   NaN  ...    \n",
      "924        5.0   3.0   NaN   NaN   NaN   NaN   4.0   NaN   4.0   NaN  ...    \n",
      "925        NaN   NaN   NaN   NaN   NaN   NaN   NaN   NaN   NaN   NaN  ...    \n",
      "926        NaN   NaN   NaN   NaN   NaN   NaN   NaN   NaN   NaN   NaN  ...    \n",
      "927        5.0   NaN   NaN   NaN   NaN   NaN   NaN   4.0   NaN   NaN  ...    \n",
      "928        NaN   NaN   NaN   NaN   NaN   NaN   NaN   NaN   5.0   NaN  ...    \n",
      "929        3.0   NaN   NaN   NaN   NaN   NaN   NaN   NaN   NaN   NaN  ...    \n",
      "930        3.0   NaN   NaN   NaN   NaN   NaN   NaN   NaN   NaN   NaN  ...    \n",
      "931        NaN   NaN   NaN   NaN   NaN   NaN   NaN   NaN   NaN   NaN  ...    \n",
      "932        4.0   NaN   NaN   NaN   NaN   NaN   NaN   NaN   5.0   NaN  ...    \n",
      "933        3.0   NaN   NaN   3.0   NaN   NaN   4.0   NaN   3.0   NaN  ...    \n",
      "934        2.0   4.0   NaN   5.0   NaN   NaN   NaN   NaN   NaN   NaN  ...    \n",
      "935        3.0   NaN   NaN   NaN   NaN   NaN   NaN   NaN   1.0   NaN  ...    \n",
      "936        4.0   NaN   4.0   NaN   NaN   5.0   4.0   NaN   4.0   NaN  ...    \n",
      "937        NaN   NaN   NaN   NaN   NaN   NaN   NaN   NaN   NaN   NaN  ...    \n",
      "938        4.0   NaN   NaN   NaN   NaN   NaN   4.0   NaN   3.0   NaN  ...    \n",
      "939        NaN   NaN   NaN   NaN   NaN   NaN   NaN   NaN   5.0   NaN  ...    \n",
      "940        NaN   NaN   NaN   2.0   NaN   NaN   4.0   5.0   3.0   NaN  ...    \n",
      "941        5.0   NaN   NaN   NaN   NaN   NaN   NaN   NaN   NaN   NaN  ...    \n",
      "942        NaN   NaN   NaN   NaN   NaN   NaN   NaN   NaN   NaN   NaN  ...    \n",
      "943        NaN   5.0   NaN   NaN   NaN   NaN   NaN   NaN   3.0   NaN  ...    \n",
      "\n",
      "movie_id  1673  1674  1675  1676  1677  1678  1679  1680  1681  1682  \n",
      "user_id                                                               \n",
      "1          NaN   NaN   NaN   NaN   NaN   NaN   NaN   NaN   NaN   NaN  \n",
      "2          NaN   NaN   NaN   NaN   NaN   NaN   NaN   NaN   NaN   NaN  \n",
      "3          NaN   NaN   NaN   NaN   NaN   NaN   NaN   NaN   NaN   NaN  \n",
      "4          NaN   NaN   NaN   NaN   NaN   NaN   NaN   NaN   NaN   NaN  \n",
      "5          NaN   NaN   NaN   NaN   NaN   NaN   NaN   NaN   NaN   NaN  \n",
      "6          NaN   NaN   NaN   NaN   NaN   NaN   NaN   NaN   NaN   NaN  \n",
      "7          NaN   NaN   NaN   NaN   NaN   NaN   NaN   NaN   NaN   NaN  \n",
      "8          NaN   NaN   NaN   NaN   NaN   NaN   NaN   NaN   NaN   NaN  \n",
      "9          NaN   NaN   NaN   NaN   NaN   NaN   NaN   NaN   NaN   NaN  \n",
      "10         NaN   NaN   NaN   NaN   NaN   NaN   NaN   NaN   NaN   NaN  \n",
      "11         NaN   NaN   NaN   NaN   NaN   NaN   NaN   NaN   NaN   NaN  \n",
      "12         NaN   NaN   NaN   NaN   NaN   NaN   NaN   NaN   NaN   NaN  \n",
      "13         NaN   NaN   NaN   NaN   NaN   NaN   NaN   NaN   NaN   NaN  \n",
      "14         NaN   NaN   NaN   NaN   NaN   NaN   NaN   NaN   NaN   NaN  \n",
      "15         NaN   NaN   NaN   NaN   NaN   NaN   NaN   NaN   NaN   NaN  \n",
      "16         NaN   NaN   NaN   NaN   NaN   NaN   NaN   NaN   NaN   NaN  \n",
      "17         NaN   NaN   NaN   NaN   NaN   NaN   NaN   NaN   NaN   NaN  \n",
      "18         NaN   NaN   NaN   NaN   NaN   NaN   NaN   NaN   NaN   NaN  \n",
      "19         NaN   NaN   NaN   NaN   NaN   NaN   NaN   NaN   NaN   NaN  \n",
      "20         NaN   NaN   NaN   NaN   NaN   NaN   NaN   NaN   NaN   NaN  \n",
      "21         NaN   NaN   NaN   NaN   NaN   NaN   NaN   NaN   NaN   NaN  \n",
      "22         NaN   NaN   NaN   NaN   NaN   NaN   NaN   NaN   NaN   NaN  \n",
      "23         NaN   NaN   NaN   NaN   NaN   NaN   NaN   NaN   NaN   NaN  \n",
      "24         NaN   NaN   NaN   NaN   NaN   NaN   NaN   NaN   NaN   NaN  \n",
      "25         NaN   NaN   NaN   NaN   NaN   NaN   NaN   NaN   NaN   NaN  \n",
      "26         NaN   NaN   NaN   NaN   NaN   NaN   NaN   NaN   NaN   NaN  \n",
      "27         NaN   NaN   NaN   NaN   NaN   NaN   NaN   NaN   NaN   NaN  \n",
      "28         NaN   NaN   NaN   NaN   NaN   NaN   NaN   NaN   NaN   NaN  \n",
      "29         NaN   NaN   NaN   NaN   NaN   NaN   NaN   NaN   NaN   NaN  \n",
      "30         NaN   NaN   NaN   NaN   NaN   NaN   NaN   NaN   NaN   NaN  \n",
      "...        ...   ...   ...   ...   ...   ...   ...   ...   ...   ...  \n",
      "914        NaN   NaN   NaN   NaN   NaN   NaN   NaN   NaN   NaN   NaN  \n",
      "915        NaN   NaN   NaN   NaN   NaN   NaN   NaN   NaN   NaN   NaN  \n",
      "916        NaN   NaN   NaN   NaN   NaN   NaN   NaN   NaN   NaN   3.0  \n",
      "917        NaN   NaN   NaN   NaN   NaN   NaN   NaN   NaN   NaN   NaN  \n",
      "918        NaN   NaN   NaN   NaN   NaN   NaN   NaN   NaN   NaN   NaN  \n",
      "919        NaN   NaN   NaN   NaN   NaN   NaN   NaN   NaN   NaN   NaN  \n",
      "920        NaN   NaN   NaN   NaN   NaN   NaN   NaN   NaN   NaN   NaN  \n",
      "921        NaN   NaN   NaN   NaN   NaN   NaN   NaN   NaN   NaN   NaN  \n",
      "922        NaN   NaN   NaN   NaN   NaN   NaN   NaN   NaN   NaN   NaN  \n",
      "923        NaN   NaN   NaN   NaN   NaN   NaN   NaN   NaN   NaN   NaN  \n",
      "924        NaN   NaN   NaN   NaN   NaN   NaN   NaN   NaN   NaN   NaN  \n",
      "925        NaN   NaN   NaN   NaN   NaN   NaN   NaN   NaN   NaN   NaN  \n",
      "926        NaN   NaN   NaN   NaN   NaN   NaN   NaN   NaN   NaN   NaN  \n",
      "927        NaN   NaN   NaN   NaN   NaN   NaN   NaN   NaN   NaN   NaN  \n",
      "928        NaN   NaN   NaN   NaN   NaN   NaN   NaN   NaN   NaN   NaN  \n",
      "929        NaN   NaN   NaN   NaN   NaN   NaN   NaN   NaN   NaN   NaN  \n",
      "930        NaN   NaN   NaN   NaN   NaN   NaN   NaN   NaN   NaN   NaN  \n",
      "931        NaN   NaN   NaN   NaN   NaN   NaN   NaN   NaN   NaN   NaN  \n",
      "932        NaN   NaN   NaN   NaN   NaN   NaN   NaN   NaN   NaN   NaN  \n",
      "933        NaN   NaN   NaN   NaN   NaN   NaN   NaN   NaN   NaN   NaN  \n",
      "934        NaN   NaN   NaN   NaN   NaN   NaN   NaN   NaN   NaN   NaN  \n",
      "935        NaN   NaN   NaN   NaN   NaN   NaN   NaN   NaN   NaN   NaN  \n",
      "936        NaN   NaN   NaN   NaN   NaN   NaN   NaN   NaN   NaN   NaN  \n",
      "937        NaN   NaN   NaN   NaN   NaN   NaN   NaN   NaN   NaN   NaN  \n",
      "938        NaN   NaN   NaN   NaN   NaN   NaN   NaN   NaN   NaN   NaN  \n",
      "939        NaN   NaN   NaN   NaN   NaN   NaN   NaN   NaN   NaN   NaN  \n",
      "940        NaN   NaN   NaN   NaN   NaN   NaN   NaN   NaN   NaN   NaN  \n",
      "941        NaN   NaN   NaN   NaN   NaN   NaN   NaN   NaN   NaN   NaN  \n",
      "942        NaN   NaN   NaN   NaN   NaN   NaN   NaN   NaN   NaN   NaN  \n",
      "943        NaN   NaN   NaN   NaN   NaN   NaN   NaN   NaN   NaN   NaN  \n",
      "\n",
      "[943 rows x 1682 columns]\n"
     ]
    }
   ],
   "source": [
    "#Creating sparse_rating_matrix:\n",
    "n_users = users.user_id.unique().shape[0]\n",
    "n_movies = movies.movie_id.unique().shape[0]\n",
    "\n",
    "ratings = np.zeros((n_users, n_movies))\n",
    "# reading ratings from \n",
    "for row in data_base.itertuples():\n",
    "    ratings[row[1]-1 , row[2] -1] = row[3]\n",
    "\n",
    "sparse_rating_matrix = pd.DataFrame(data=ratings,index=users['user_id'],columns=movies['movie_id'])\n",
    "sparse_rating_matrix = sparse_rating_matrix.replace('0',np.nan)\n",
    "print(sparse_rating_matrix)"
   ]
  },
  {
   "cell_type": "code",
   "execution_count": 5,
   "metadata": {
    "collapsed": false,
    "deletable": true,
    "editable": true
   },
   "outputs": [],
   "source": [
    "def r(u, i) : \n",
    "    return sparse_rating_matrix.values[u][i]\n",
    "\n",
    "r_val = sparse_rating_matrix.mean().mean()\n",
    "def r_() : \n",
    "    return r_val\n",
    "\n",
    "r_u_value = sparse_rating_matrix.mean(axis=1).tolist()\n",
    "def r_u(u) : \n",
    "    return r_u_value[u]\n",
    "\n",
    "r_i_value = sparse_rating_matrix.mean(axis=0).tolist()\n",
    "def r_i(i) : \n",
    "    return r_i_value[i]\n",
    "\n",
    "N = 0 # the number of ratings that are not NaN\n",
    "for element in sparse_rating_matrix.values :\n",
    "    for e in element : \n",
    "        if(not np.isnan(e)) : \n",
    "            N += 1"
   ]
  },
  {
   "cell_type": "markdown",
   "metadata": {
    "deletable": true,
    "editable": true
   },
   "source": [
    "Equation 1"
   ]
  },
  {
   "cell_type": "code",
   "execution_count": 6,
   "metadata": {
    "collapsed": false,
    "deletable": true,
    "editable": true
   },
   "outputs": [
    {
     "name": "stdout",
     "output_type": "stream",
     "text": [
      "[ 164.71078179  192.69022191  164.51493068]\n",
      "10.806844922\n"
     ]
    }
   ],
   "source": [
    "t1 = 0\n",
    "t2 = 0\n",
    "t3 = 0\n",
    "t4 = 0\n",
    "for u in range(len(sparse_rating_matrix.values)) : \n",
    "    for i in range(len(sparse_rating_matrix.values[u])) : \n",
    "        t1_ = r(u,i)*r_() \n",
    "        t2_ = r_()**2\n",
    "        t3_ = r_u(u)*r_()\n",
    "        t4_ = r_i(i)*r_()\n",
    "        if not np.isnan(t1_) : \n",
    "            t1 += t1_\n",
    "        if not np.isnan(t2_) : \n",
    "            t2 += t2_\n",
    "        if not np.isnan(t3_) : \n",
    "            t3 += t3_\n",
    "        if not np.isnan(t4_) : \n",
    "            t4 += t4_\n",
    "t1 = t1 / N\n",
    "t2 = t2 / N\n",
    "t3 = t3 / N\n",
    "t4 = t4 / N\n",
    "equation1 = np.array([t2, t3, t4])\n",
    "val1 = t1\n",
    "print(equation1)\n",
    "print(val1)"
   ]
  },
  {
   "cell_type": "markdown",
   "metadata": {
    "deletable": true,
    "editable": true
   },
   "source": [
    "Equation 2"
   ]
  },
  {
   "cell_type": "code",
   "execution_count": 7,
   "metadata": {
    "collapsed": false,
    "deletable": true,
    "editable": true
   },
   "outputs": [
    {
     "name": "stdout",
     "output_type": "stream",
     "text": [
      "[ 192.69022191  229.0078886   192.46110155]\n",
      "12.6226665549\n"
     ]
    }
   ],
   "source": [
    "t1 = 0\n",
    "t2 = 0\n",
    "t3 = 0\n",
    "t4 = 0\n",
    "for u in range(len(sparse_rating_matrix.values)) : \n",
    "    for i in range(len(sparse_rating_matrix.values[u])) : \n",
    "        t1_ = r(u,i)*r_u(u) \n",
    "        t2_ = r_()*r_u(u)\n",
    "        t3_ = r_u(u)**2\n",
    "        t4_ = r_i(i)*r_u(u)\n",
    "        if not np.isnan(t1_) : \n",
    "            t1 += t1_\n",
    "        if not np.isnan(t2_) : \n",
    "            t2 += t2_\n",
    "        if not np.isnan(t3_) : \n",
    "            t3 += t3_\n",
    "        if not np.isnan(t4_) : \n",
    "            t4 += t4_\n",
    "t1 = t1 / N\n",
    "t2 = t2 / N\n",
    "t3 = t3 / N\n",
    "t4 = t4 / N\n",
    "equation2 = np.array([t2, t3, t4])\n",
    "val2 = t1\n",
    "print(equation2)\n",
    "print(val2)"
   ]
  },
  {
   "cell_type": "markdown",
   "metadata": {
    "deletable": true,
    "editable": true
   },
   "source": [
    "Equation 3"
   ]
  },
  {
   "cell_type": "code",
   "execution_count": 8,
   "metadata": {
    "collapsed": false,
    "deletable": true,
    "editable": true
   },
   "outputs": [
    {
     "name": "stdout",
     "output_type": "stream",
     "text": [
      "[ 164.51493068  192.46110155  175.428263  ]\n",
      "12.6917804296\n"
     ]
    }
   ],
   "source": [
    "t1 = 0\n",
    "t2 = 0\n",
    "t3 = 0\n",
    "t4 = 0\n",
    "for u in range(len(sparse_rating_matrix.values)) : \n",
    "    for i in range(len(sparse_rating_matrix.values[u])) : \n",
    "        t1_ = r(u,i)*r_i(i) \n",
    "        t2_ = r_()*r_i(i)\n",
    "        t3_ = r_u(u)*r_i(i)\n",
    "        t4_ = r_i(i)**2\n",
    "        if not np.isnan(t1_) : \n",
    "            t1 += t1_\n",
    "        if not np.isnan(t2_) : \n",
    "            t2 += t2_\n",
    "        if not np.isnan(t3_) : \n",
    "            t3 += t3_\n",
    "        if not np.isnan(t4_) : \n",
    "            t4 += t4_\n",
    "t1 = t1 / N\n",
    "t2 = t2 / N\n",
    "t3 = t3 / N\n",
    "t4 = t4 / N\n",
    "equation3 = np.array([t2, t3, t4])\n",
    "val3 = t1\n",
    "print(equation3)\n",
    "print(val3)"
   ]
  },
  {
   "cell_type": "code",
   "execution_count": 9,
   "metadata": {
    "collapsed": false,
    "deletable": true,
    "editable": true
   },
   "outputs": [],
   "source": [
    "def square_error() :\n",
    "    err = 0\n",
    "    for u in range(len(sparse_rating_matrix.values)) : \n",
    "        for i in range(len(sparse_rating_matrix.values[u])) : \n",
    "            t1_ = r(u,i) \n",
    "            t2_ = alpha*r_()\n",
    "            t3_ = beta*r_u(u)\n",
    "            t4_ = gamma*r_i(i)\n",
    "            temp_error = 0\n",
    "            if not np.isnan(t1_) : \n",
    "                 temp_error += t1_\n",
    "            if not np.isnan(t2_) : \n",
    "                temp_error -= t2_\n",
    "            if not np.isnan(t3_) : \n",
    "                temp_error -= t3_\n",
    "            if not np.isnan(t4_) : \n",
    "                temp_error -= t4_\n",
    "            err += temp_error**2\n",
    "    err = err / N\n",
    "    return err"
   ]
  },
  {
   "cell_type": "markdown",
   "metadata": {
    "deletable": true,
    "editable": true
   },
   "source": [
    "Checking Squared error for different configuration of alpha, beta, gamma"
   ]
  },
  {
   "cell_type": "code",
   "execution_count": 10,
   "metadata": {
    "collapsed": false,
    "deletable": true,
    "editable": true
   },
   "outputs": [
    {
     "name": "stdout",
     "output_type": "stream",
     "text": [
      "(-0.098514020763096941, -0.0055610667228073382, 0.1708339137649959)\n",
      "12.6520161854\n",
      "(0.8144, 0.87, -0.6485)\n",
      "229.046152847\n",
      "(0.333, 0.333, 0.333)\n",
      "174.644617869\n"
     ]
    }
   ],
   "source": [
    "alpha, beta, gamma = np.linalg.solve(np.array([equation1, equation2, equation3]), np.array([val1, val2, val3]))\n",
    "print(alpha, beta, gamma)\n",
    "print(square_error())\n",
    "\n",
    "alpha = 0.8144\n",
    "beta = 0.8700\n",
    "gamma = -0.6485\n",
    "print(alpha, beta, gamma)\n",
    "print(square_error())\n",
    "\n",
    "alpha = 0.333\n",
    "beta = 0.333\n",
    "gamma = 0.333\n",
    "print(alpha, beta, gamma)\n",
    "print(square_error())"
   ]
  },
  {
   "cell_type": "code",
   "execution_count": 15,
   "metadata": {
    "collapsed": false,
    "deletable": true,
    "editable": true
   },
   "outputs": [
    {
     "name": "stdout",
     "output_type": "stream",
     "text": [
      "[[ 4.66279224  2.7757727   3.79960806 ...,         nan         nan\n",
      "          nan]\n",
      " [ 3.66360942         nan         nan ...,         nan         nan\n",
      "          nan]\n",
      " [        nan         nan         nan ...,         nan         nan\n",
      "          nan]\n",
      " ..., \n",
      " [ 4.66407285         nan         nan ...,         nan         nan\n",
      "          nan]\n",
      " [        nan         nan         nan ...,         nan         nan\n",
      "          nan]\n",
      " [        nan  4.77460127         nan ...,         nan         nan\n",
      "          nan]]\n"
     ]
    }
   ],
   "source": [
    "alpha, beta, gamma = np.linalg.solve(np.array([equation1, equation2, equation3]), np.array([val1, val2, val3]))\n",
    "r_tilda = ratings = np.zeros((n_users, n_movies))\n",
    "r_tilda[r_tilda == 0] = np.nan\n",
    "for u in range(len(sparse_rating_matrix.values)) : \n",
    "    for i in range(len(sparse_rating_matrix.values[u])) : \n",
    "        t1_ = r(u,i) \n",
    "        t2_ = alpha*r_()\n",
    "        t3_ = beta*r_u(u)\n",
    "        t4_ = gamma*r_i(i)\n",
    "        if(np.isnan(t1_) or np.isnan(t2_) or np.isnan(t3) or np.isnan(t4)) : \n",
    "            r_tilda[u][i] = np.nan\n",
    "            continue \n",
    "        r_tilda[u][i] = t1_ - t2_ - t3_ - t4_\n",
    "            \n",
    "print(r_tilda)     "
   ]
  },
  {
   "cell_type": "code",
   "execution_count": null,
   "metadata": {
    "collapsed": true,
    "deletable": true,
    "editable": true
   },
   "outputs": [],
   "source": []
  }
 ],
 "metadata": {
  "kernelspec": {
   "display_name": "Python 2",
   "language": "python",
   "name": "python2"
  },
  "language_info": {
   "codemirror_mode": {
    "name": "ipython",
    "version": 2
   },
   "file_extension": ".py",
   "mimetype": "text/x-python",
   "name": "python",
   "nbconvert_exporter": "python",
   "pygments_lexer": "ipython2",
   "version": "2.7.13"
  }
 },
 "nbformat": 4,
 "nbformat_minor": 2
}
