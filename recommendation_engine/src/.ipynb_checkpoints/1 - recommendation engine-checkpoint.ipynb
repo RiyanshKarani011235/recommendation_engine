{
 "cells": [
  {
   "cell_type": "code",
   "execution_count": 122,
   "metadata": {
    "collapsed": true,
    "deletable": true,
    "editable": true
   },
   "outputs": [],
   "source": [
    "# imports\n",
    "import pandas as pd\n",
    "import numpy as np\n",
    "import statsmodels.formula.api as sm\n",
    "import scipy.sparse as sp\n",
    "from scipy.sparse.linalg import svds\n",
    "import os\n",
    "import random"
   ]
  },
  {
   "cell_type": "markdown",
   "metadata": {
    "deletable": true,
    "editable": true
   },
   "source": [
    "Loading the Data"
   ]
  },
  {
   "cell_type": "code",
   "execution_count": 123,
   "metadata": {
    "collapsed": false,
    "deletable": true,
    "editable": true
   },
   "outputs": [],
   "source": [
    "# dataset root\n",
    "root_dataset_folder = os.path.join('..', 'data', 'ml-100k')\n",
    "\n",
    "# u.user (Users)\n",
    "user_columns = [\n",
    "    'user_id', \n",
    "    'age', \n",
    "    'sex', \n",
    "    'occupation', \n",
    "    'zip_code'\n",
    "]\n",
    "users = pd.read_csv(os.path.join(root_dataset_folder, 'u.user'), sep='|', names=user_columns, encoding='latin-1')\n",
    "\n",
    "# u.items (Movies)\n",
    "movie_columns = [\n",
    "    'movie_id', \n",
    "    'movie_title' ,\n",
    "    'release_date',\n",
    "    'video_release_date', \n",
    "    'IMDb_URL', \n",
    "    'unknown', \n",
    "    'Action', \n",
    "    'Adventure', \n",
    "    'Animation', \n",
    "    'Children\\'s', \n",
    "    'Comedy', \n",
    "    'Crime', \n",
    "    'Documentary', \n",
    "    'Drama', \n",
    "    'Fantasy', \n",
    "    'Film-Noir', \n",
    "    'Horror', \n",
    "    'Musical', \n",
    "    'Mystery', \n",
    "    'Romance', \n",
    "    'Sci-Fi', \n",
    "    'Thriller', \n",
    "    'War',\n",
    "    'Western'\n",
    "]\n",
    "movies = pd.read_csv(os.path.join(root_dataset_folder, 'u.item'), sep='|', names=movie_columns, encoding='latin-1')\n",
    "\n",
    "# (Ratings)\n",
    "rating_columns = [\n",
    "    'user_id', \n",
    "    'movie_id', \n",
    "    'rating', \n",
    "    'unix_timestamp'\n",
    "]\n",
    "# ua.base\n",
    "data_base = pd.read_csv(os.path.join(root_dataset_folder, 'ua.base'), sep='\\t', names=rating_columns, encoding='latin-1')\n",
    "# ua.test\n",
    "data_test = pd.read_csv(os.path.join(root_dataset_folder, 'ua.test'), sep='\\t', names=rating_columns, encoding='latin-1')"
   ]
  },
  {
   "cell_type": "markdown",
   "metadata": {
    "deletable": true,
    "editable": true
   },
   "source": [
    "Generating the Sparse Rating Matrix"
   ]
  },
  {
   "cell_type": "code",
   "execution_count": 124,
   "metadata": {
    "collapsed": false,
    "deletable": true,
    "editable": true
   },
   "outputs": [
    {
     "name": "stdout",
     "output_type": "stream",
     "text": [
      "movie_id  1     2     3     4     5     6     7     8     9     10    ...   \\\n",
      "user_id                                                               ...    \n",
      "1          5.0   3.0   4.0   3.0   3.0   5.0   4.0   1.0   5.0   3.0  ...    \n",
      "2          4.0   NaN   NaN   NaN   NaN   NaN   NaN   NaN   NaN   2.0  ...    \n",
      "3          NaN   NaN   NaN   NaN   NaN   NaN   NaN   NaN   NaN   NaN  ...    \n",
      "4          NaN   NaN   NaN   NaN   NaN   NaN   NaN   NaN   NaN   NaN  ...    \n",
      "5          NaN   NaN   NaN   NaN   NaN   NaN   NaN   NaN   NaN   NaN  ...    \n",
      "6          4.0   NaN   NaN   NaN   NaN   NaN   2.0   4.0   4.0   NaN  ...    \n",
      "7          NaN   NaN   NaN   5.0   NaN   NaN   5.0   5.0   5.0   4.0  ...    \n",
      "8          NaN   NaN   NaN   NaN   NaN   NaN   3.0   NaN   NaN   NaN  ...    \n",
      "9          NaN   NaN   NaN   NaN   NaN   NaN   4.0   NaN   NaN   NaN  ...    \n",
      "10         4.0   NaN   NaN   4.0   NaN   NaN   NaN   NaN   4.0   NaN  ...    \n",
      "11         NaN   NaN   NaN   NaN   NaN   NaN   NaN   4.0   5.0   NaN  ...    \n",
      "12         NaN   NaN   NaN   5.0   NaN   NaN   NaN   NaN   NaN   NaN  ...    \n",
      "13         3.0   3.0   NaN   5.0   1.0   NaN   2.0   4.0   3.0   NaN  ...    \n",
      "14         NaN   NaN   NaN   NaN   NaN   NaN   5.0   NaN   4.0   NaN  ...    \n",
      "15         1.0   NaN   NaN   NaN   NaN   NaN   1.0   NaN   4.0   NaN  ...    \n",
      "16         5.0   NaN   NaN   5.0   NaN   NaN   5.0   NaN   5.0   NaN  ...    \n",
      "17         NaN   NaN   NaN   NaN   NaN   NaN   4.0   NaN   NaN   NaN  ...    \n",
      "18         5.0   NaN   NaN   3.0   NaN   5.0   NaN   5.0   5.0   NaN  ...    \n",
      "19         NaN   NaN   NaN   NaN   NaN   NaN   NaN   5.0   NaN   NaN  ...    \n",
      "20         3.0   NaN   NaN   NaN   NaN   NaN   NaN   NaN   NaN   NaN  ...    \n",
      "21         5.0   NaN   NaN   NaN   2.0   NaN   5.0   NaN   5.0   NaN  ...    \n",
      "22         NaN   2.0   NaN   5.0   NaN   NaN   NaN   NaN   NaN   NaN  ...    \n",
      "23         5.0   NaN   NaN   NaN   NaN   NaN   4.0   4.0   NaN   NaN  ...    \n",
      "24         NaN   NaN   NaN   NaN   NaN   NaN   4.0   5.0   5.0   NaN  ...    \n",
      "25         5.0   NaN   NaN   NaN   NaN   NaN   4.0   4.0   NaN   NaN  ...    \n",
      "26         3.0   NaN   NaN   NaN   NaN   NaN   3.0   NaN   4.0   NaN  ...    \n",
      "27         NaN   NaN   NaN   NaN   NaN   NaN   NaN   NaN   4.0   NaN  ...    \n",
      "28         NaN   NaN   NaN   NaN   3.0   NaN   NaN   NaN   NaN   NaN  ...    \n",
      "29         NaN   NaN   NaN   NaN   NaN   NaN   NaN   NaN   NaN   NaN  ...    \n",
      "30         NaN   3.0   NaN   NaN   NaN   NaN   4.0   NaN   NaN   NaN  ...    \n",
      "...        ...   ...   ...   ...   ...   ...   ...   ...   ...   ...  ...    \n",
      "914        NaN   NaN   NaN   NaN   NaN   NaN   NaN   NaN   NaN   NaN  ...    \n",
      "915        NaN   NaN   NaN   NaN   NaN   NaN   NaN   NaN   NaN   NaN  ...    \n",
      "916        4.0   3.0   3.0   4.0   3.0   NaN   4.0   NaN   5.0   NaN  ...    \n",
      "917        3.0   NaN   1.0   NaN   NaN   NaN   NaN   NaN   5.0   NaN  ...    \n",
      "918        3.0   NaN   NaN   NaN   NaN   NaN   NaN   NaN   NaN   NaN  ...    \n",
      "919        4.0   NaN   NaN   1.0   4.0   NaN   3.0   NaN   5.0   NaN  ...    \n",
      "920        NaN   NaN   NaN   NaN   NaN   NaN   NaN   NaN   NaN   NaN  ...    \n",
      "921        NaN   NaN   NaN   NaN   NaN   NaN   NaN   NaN   NaN   NaN  ...    \n",
      "922        5.0   NaN   NaN   NaN   NaN   NaN   NaN   NaN   NaN   NaN  ...    \n",
      "923        3.0   NaN   4.0   NaN   NaN   NaN   NaN   NaN   4.0   NaN  ...    \n",
      "924        5.0   3.0   NaN   NaN   NaN   NaN   4.0   NaN   4.0   NaN  ...    \n",
      "925        NaN   NaN   NaN   NaN   NaN   NaN   NaN   NaN   NaN   NaN  ...    \n",
      "926        NaN   NaN   NaN   NaN   NaN   NaN   NaN   NaN   NaN   NaN  ...    \n",
      "927        5.0   NaN   NaN   NaN   NaN   NaN   NaN   4.0   NaN   NaN  ...    \n",
      "928        NaN   NaN   NaN   NaN   NaN   NaN   NaN   NaN   5.0   NaN  ...    \n",
      "929        3.0   NaN   NaN   NaN   NaN   NaN   NaN   NaN   NaN   NaN  ...    \n",
      "930        3.0   NaN   NaN   NaN   NaN   NaN   NaN   NaN   NaN   NaN  ...    \n",
      "931        NaN   NaN   NaN   NaN   NaN   NaN   NaN   NaN   NaN   NaN  ...    \n",
      "932        4.0   NaN   NaN   NaN   NaN   NaN   NaN   NaN   5.0   NaN  ...    \n",
      "933        3.0   NaN   NaN   3.0   NaN   NaN   4.0   NaN   3.0   NaN  ...    \n",
      "934        2.0   4.0   NaN   5.0   NaN   NaN   NaN   NaN   NaN   NaN  ...    \n",
      "935        3.0   NaN   NaN   NaN   NaN   NaN   NaN   NaN   1.0   NaN  ...    \n",
      "936        4.0   NaN   4.0   NaN   NaN   5.0   4.0   NaN   4.0   NaN  ...    \n",
      "937        NaN   NaN   NaN   NaN   NaN   NaN   NaN   NaN   NaN   NaN  ...    \n",
      "938        4.0   NaN   NaN   NaN   NaN   NaN   4.0   NaN   3.0   NaN  ...    \n",
      "939        NaN   NaN   NaN   NaN   NaN   NaN   NaN   NaN   5.0   NaN  ...    \n",
      "940        NaN   NaN   NaN   2.0   NaN   NaN   4.0   5.0   3.0   NaN  ...    \n",
      "941        5.0   NaN   NaN   NaN   NaN   NaN   NaN   NaN   NaN   NaN  ...    \n",
      "942        NaN   NaN   NaN   NaN   NaN   NaN   NaN   NaN   NaN   NaN  ...    \n",
      "943        NaN   5.0   NaN   NaN   NaN   NaN   NaN   NaN   3.0   NaN  ...    \n",
      "\n",
      "movie_id  1673  1674  1675  1676  1677  1678  1679  1680  1681  1682  \n",
      "user_id                                                               \n",
      "1          NaN   NaN   NaN   NaN   NaN   NaN   NaN   NaN   NaN   NaN  \n",
      "2          NaN   NaN   NaN   NaN   NaN   NaN   NaN   NaN   NaN   NaN  \n",
      "3          NaN   NaN   NaN   NaN   NaN   NaN   NaN   NaN   NaN   NaN  \n",
      "4          NaN   NaN   NaN   NaN   NaN   NaN   NaN   NaN   NaN   NaN  \n",
      "5          NaN   NaN   NaN   NaN   NaN   NaN   NaN   NaN   NaN   NaN  \n",
      "6          NaN   NaN   NaN   NaN   NaN   NaN   NaN   NaN   NaN   NaN  \n",
      "7          NaN   NaN   NaN   NaN   NaN   NaN   NaN   NaN   NaN   NaN  \n",
      "8          NaN   NaN   NaN   NaN   NaN   NaN   NaN   NaN   NaN   NaN  \n",
      "9          NaN   NaN   NaN   NaN   NaN   NaN   NaN   NaN   NaN   NaN  \n",
      "10         NaN   NaN   NaN   NaN   NaN   NaN   NaN   NaN   NaN   NaN  \n",
      "11         NaN   NaN   NaN   NaN   NaN   NaN   NaN   NaN   NaN   NaN  \n",
      "12         NaN   NaN   NaN   NaN   NaN   NaN   NaN   NaN   NaN   NaN  \n",
      "13         NaN   NaN   NaN   NaN   NaN   NaN   NaN   NaN   NaN   NaN  \n",
      "14         NaN   NaN   NaN   NaN   NaN   NaN   NaN   NaN   NaN   NaN  \n",
      "15         NaN   NaN   NaN   NaN   NaN   NaN   NaN   NaN   NaN   NaN  \n",
      "16         NaN   NaN   NaN   NaN   NaN   NaN   NaN   NaN   NaN   NaN  \n",
      "17         NaN   NaN   NaN   NaN   NaN   NaN   NaN   NaN   NaN   NaN  \n",
      "18         NaN   NaN   NaN   NaN   NaN   NaN   NaN   NaN   NaN   NaN  \n",
      "19         NaN   NaN   NaN   NaN   NaN   NaN   NaN   NaN   NaN   NaN  \n",
      "20         NaN   NaN   NaN   NaN   NaN   NaN   NaN   NaN   NaN   NaN  \n",
      "21         NaN   NaN   NaN   NaN   NaN   NaN   NaN   NaN   NaN   NaN  \n",
      "22         NaN   NaN   NaN   NaN   NaN   NaN   NaN   NaN   NaN   NaN  \n",
      "23         NaN   NaN   NaN   NaN   NaN   NaN   NaN   NaN   NaN   NaN  \n",
      "24         NaN   NaN   NaN   NaN   NaN   NaN   NaN   NaN   NaN   NaN  \n",
      "25         NaN   NaN   NaN   NaN   NaN   NaN   NaN   NaN   NaN   NaN  \n",
      "26         NaN   NaN   NaN   NaN   NaN   NaN   NaN   NaN   NaN   NaN  \n",
      "27         NaN   NaN   NaN   NaN   NaN   NaN   NaN   NaN   NaN   NaN  \n",
      "28         NaN   NaN   NaN   NaN   NaN   NaN   NaN   NaN   NaN   NaN  \n",
      "29         NaN   NaN   NaN   NaN   NaN   NaN   NaN   NaN   NaN   NaN  \n",
      "30         NaN   NaN   NaN   NaN   NaN   NaN   NaN   NaN   NaN   NaN  \n",
      "...        ...   ...   ...   ...   ...   ...   ...   ...   ...   ...  \n",
      "914        NaN   NaN   NaN   NaN   NaN   NaN   NaN   NaN   NaN   NaN  \n",
      "915        NaN   NaN   NaN   NaN   NaN   NaN   NaN   NaN   NaN   NaN  \n",
      "916        NaN   NaN   NaN   NaN   NaN   NaN   NaN   NaN   NaN   3.0  \n",
      "917        NaN   NaN   NaN   NaN   NaN   NaN   NaN   NaN   NaN   NaN  \n",
      "918        NaN   NaN   NaN   NaN   NaN   NaN   NaN   NaN   NaN   NaN  \n",
      "919        NaN   NaN   NaN   NaN   NaN   NaN   NaN   NaN   NaN   NaN  \n",
      "920        NaN   NaN   NaN   NaN   NaN   NaN   NaN   NaN   NaN   NaN  \n",
      "921        NaN   NaN   NaN   NaN   NaN   NaN   NaN   NaN   NaN   NaN  \n",
      "922        NaN   NaN   NaN   NaN   NaN   NaN   NaN   NaN   NaN   NaN  \n",
      "923        NaN   NaN   NaN   NaN   NaN   NaN   NaN   NaN   NaN   NaN  \n",
      "924        NaN   NaN   NaN   NaN   NaN   NaN   NaN   NaN   NaN   NaN  \n",
      "925        NaN   NaN   NaN   NaN   NaN   NaN   NaN   NaN   NaN   NaN  \n",
      "926        NaN   NaN   NaN   NaN   NaN   NaN   NaN   NaN   NaN   NaN  \n",
      "927        NaN   NaN   NaN   NaN   NaN   NaN   NaN   NaN   NaN   NaN  \n",
      "928        NaN   NaN   NaN   NaN   NaN   NaN   NaN   NaN   NaN   NaN  \n",
      "929        NaN   NaN   NaN   NaN   NaN   NaN   NaN   NaN   NaN   NaN  \n",
      "930        NaN   NaN   NaN   NaN   NaN   NaN   NaN   NaN   NaN   NaN  \n",
      "931        NaN   NaN   NaN   NaN   NaN   NaN   NaN   NaN   NaN   NaN  \n",
      "932        NaN   NaN   NaN   NaN   NaN   NaN   NaN   NaN   NaN   NaN  \n",
      "933        NaN   NaN   NaN   NaN   NaN   NaN   NaN   NaN   NaN   NaN  \n",
      "934        NaN   NaN   NaN   NaN   NaN   NaN   NaN   NaN   NaN   NaN  \n",
      "935        NaN   NaN   NaN   NaN   NaN   NaN   NaN   NaN   NaN   NaN  \n",
      "936        NaN   NaN   NaN   NaN   NaN   NaN   NaN   NaN   NaN   NaN  \n",
      "937        NaN   NaN   NaN   NaN   NaN   NaN   NaN   NaN   NaN   NaN  \n",
      "938        NaN   NaN   NaN   NaN   NaN   NaN   NaN   NaN   NaN   NaN  \n",
      "939        NaN   NaN   NaN   NaN   NaN   NaN   NaN   NaN   NaN   NaN  \n",
      "940        NaN   NaN   NaN   NaN   NaN   NaN   NaN   NaN   NaN   NaN  \n",
      "941        NaN   NaN   NaN   NaN   NaN   NaN   NaN   NaN   NaN   NaN  \n",
      "942        NaN   NaN   NaN   NaN   NaN   NaN   NaN   NaN   NaN   NaN  \n",
      "943        NaN   NaN   NaN   NaN   NaN   NaN   NaN   NaN   NaN   NaN  \n",
      "\n",
      "[943 rows x 1682 columns]\n"
     ]
    }
   ],
   "source": [
    "#Creating sparse_rating_matrix:\n",
    "n_users = users.user_id.unique().shape[0]\n",
    "n_movies = movies.movie_id.unique().shape[0]\n",
    "\n",
    "ratings = np.zeros((n_users, n_movies))\n",
    "# reading ratings from \n",
    "for row in data_base.itertuples():\n",
    "    ratings[row[1]-1 , row[2] -1] = row[3]\n",
    "\n",
    "sparse_rating_matrix = pd.DataFrame(data=ratings,index=users['user_id'],columns=movies['movie_id'])\n",
    "sparse_rating_matrix = sparse_rating_matrix.replace('0',np.nan)\n",
    "print(sparse_rating_matrix)"
   ]
  },
  {
   "cell_type": "markdown",
   "metadata": {
    "deletable": true,
    "editable": true
   },
   "source": [
    "Subtractive Normalization"
   ]
  },
  {
   "cell_type": "code",
   "execution_count": 125,
   "metadata": {
    "collapsed": false,
    "deletable": true,
    "editable": true
   },
   "outputs": [
    {
     "name": "stdout",
     "output_type": "stream",
     "text": [
      "[[ 3.60305344  3.60305344  3.60305344 ...,  3.60305344  3.60305344\n",
      "   3.60305344]\n",
      " [ 3.75        3.75        3.75       ...,  3.75        3.75        3.75      ]\n",
      " [ 2.90909091  2.90909091  2.90909091 ...,  2.90909091  2.90909091\n",
      "   2.90909091]\n",
      " ..., \n",
      " [ 3.83333333  3.83333333  3.83333333 ...,  3.83333333  3.83333333\n",
      "   3.83333333]\n",
      " [ 4.30434783  4.30434783  4.30434783 ...,  4.30434783  4.30434783\n",
      "   4.30434783]\n",
      " [ 3.39240506  3.39240506  3.39240506 ...,  3.39240506  3.39240506\n",
      "   3.39240506]]\n"
     ]
    }
   ],
   "source": [
    "# r_u\n",
    "r_u = sparse_rating_matrix.mean(axis=1)\n",
    "r_u = np.asarray([[element for j in range(n_movies)] for element in r_u])\n",
    "print(r_u)"
   ]
  },
  {
   "cell_type": "code",
   "execution_count": 126,
   "metadata": {
    "collapsed": false,
    "deletable": true,
    "editable": true
   },
   "outputs": [
    {
     "name": "stdout",
     "output_type": "stream",
     "text": [
      "[[ 3.85969388  3.19834711  3.05882353 ...,  2.          3.          3.        ]\n",
      " [ 3.85969388  3.19834711  3.05882353 ...,  2.          3.          3.        ]\n",
      " [ 3.85969388  3.19834711  3.05882353 ...,  2.          3.          3.        ]\n",
      " ..., \n",
      " [ 3.85969388  3.19834711  3.05882353 ...,  2.          3.          3.        ]\n",
      " [ 3.85969388  3.19834711  3.05882353 ...,  2.          3.          3.        ]\n",
      " [ 3.85969388  3.19834711  3.05882353 ...,  2.          3.          3.        ]]\n"
     ]
    }
   ],
   "source": [
    "# r_i\n",
    "r_i = sparse_rating_matrix.mean(axis=0).tolist()\n",
    "r_i = np.asarray([r_i for i in range(n_users)])\n",
    "print(r_i)"
   ]
  },
  {
   "cell_type": "code",
   "execution_count": 127,
   "metadata": {
    "collapsed": false,
    "deletable": true,
    "editable": true
   },
   "outputs": [
    {
     "name": "stdout",
     "output_type": "stream",
     "text": [
      "[[ 3.06679224  3.06679224  3.06679224 ...,  3.06679224  3.06679224\n",
      "   3.06679224]\n",
      " [ 3.06679224  3.06679224  3.06679224 ...,  3.06679224  3.06679224\n",
      "   3.06679224]\n",
      " [ 3.06679224  3.06679224  3.06679224 ...,  3.06679224  3.06679224\n",
      "   3.06679224]\n",
      " ..., \n",
      " [ 3.06679224  3.06679224  3.06679224 ...,  3.06679224  3.06679224\n",
      "   3.06679224]\n",
      " [ 3.06679224  3.06679224  3.06679224 ...,  3.06679224  3.06679224\n",
      "   3.06679224]\n",
      " [ 3.06679224  3.06679224  3.06679224 ...,  3.06679224  3.06679224\n",
      "   3.06679224]]\n"
     ]
    }
   ],
   "source": [
    "# r\n",
    "r_value = sparse_rating_matrix.mean().mean()\n",
    "r   = np.zeros((n_users, n_movies))\n",
    "r.fill(r_value) \n",
    "print(r)"
   ]
  },
  {
   "cell_type": "code",
   "execution_count": null,
   "metadata": {
    "collapsed": false,
    "deletable": true,
    "editable": true
   },
   "outputs": [
    {
     "name": "stdout",
     "output_type": "stream",
     "text": [
      "(0.7402987531804672, 0.8963185766186846, 0.3454523247105159)\n"
     ]
    }
   ],
   "source": [
    "# starting values for alpha, beta and gamma\n",
    "# TODO think of how to start from a sensible point \n",
    "alpha = random.uniform(0, 1)\n",
    "beta = random.uniform(0, 1)\n",
    "gamma = random.uniform(0, 1)\n",
    "print(alpha, beta, gamma)"
   ]
  },
  {
   "cell_type": "code",
   "execution_count": null,
   "metadata": {
    "collapsed": false,
    "deletable": true,
    "editable": true
   },
   "outputs": [],
   "source": [
    "N = 0 # the number of ratings that are not NaN\n",
    "for element in sparse_rating_matrix.values :\n",
    "    for e in element : \n",
    "        if(not np.isnan(e)) : \n",
    "            N += 1"
   ]
  },
  {
   "cell_type": "markdown",
   "metadata": {},
   "source": [
    "Error Matrix"
   ]
  },
  {
   "cell_type": "code",
   "execution_count": null,
   "metadata": {
    "collapsed": true
   },
   "outputs": [],
   "source": [
    "def error_matrix() : \n",
    "    return np.subtract(sparse_rating_matrix.values, np.add((alpha*r), (beta*r_u), (gamma*r_i)))"
   ]
  },
  {
   "cell_type": "markdown",
   "metadata": {},
   "source": [
    "Square Error"
   ]
  },
  {
   "cell_type": "code",
   "execution_count": null,
   "metadata": {
    "collapsed": false,
    "deletable": true,
    "editable": true
   },
   "outputs": [],
   "source": [
    "def square_error() :\n",
    "    err_matrix = error_matrix()\n",
    "    return np.nansum(np.multiply(err_matrix, err_matrix))"
   ]
  },
  {
   "cell_type": "markdown",
   "metadata": {
    "collapsed": true,
    "deletable": true,
    "editable": true
   },
   "source": [
    "Gradient Descent (single iteration)   "
   ]
  },
  {
   "cell_type": "code",
   "execution_count": null,
   "metadata": {
    "collapsed": false
   },
   "outputs": [],
   "source": [
    "def step_gradient() :\n",
    "    global alpha, beta, gamma\n",
    "    \n",
    "    # calculating gradients\n",
    "    alpha_grad = -(2.0/N)*((square_error()*r_value))\n",
    "    beta_grad = -np.dot(np.nan_to_num(error_matrix()), np.nan_to_num(np.transpose(r_u))).sum()\n",
    "    gamma_grad = -np.dot(np.nan_to_num(error_matrix()), np.nan_to_num(np.transpose(r_i))).sum()\n",
    "    \n",
    "    # updating parameters\n",
    "    alpha -= alpha_grad\n",
    "    beta -= beta_grad\n",
    "    gamma -= gamma_grad"
   ]
  },
  {
   "cell_type": "markdown",
   "metadata": {},
   "source": [
    "Gradient Descent (Linear Regression)"
   ]
  },
  {
   "cell_type": "code",
   "execution_count": null,
   "metadata": {
    "collapsed": false,
    "scrolled": true
   },
   "outputs": [],
   "source": [
    "for i in range(1000) : \n",
    "    print(square_error())\n",
    "    step_gradient()\n",
    "    print(alpha, beta, gamma)"
   ]
  }
 ],
 "metadata": {
  "kernelspec": {
   "display_name": "Python 2",
   "language": "python",
   "name": "python2"
  },
  "language_info": {
   "codemirror_mode": {
    "name": "ipython",
    "version": 2
   },
   "file_extension": ".py",
   "mimetype": "text/x-python",
   "name": "python",
   "nbconvert_exporter": "python",
   "pygments_lexer": "ipython2",
   "version": "2.7.13"
  }
 },
 "nbformat": 4,
 "nbformat_minor": 2
}
