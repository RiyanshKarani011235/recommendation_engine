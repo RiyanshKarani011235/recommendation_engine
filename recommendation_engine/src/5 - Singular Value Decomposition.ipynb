{
 "cells": [
  {
   "cell_type": "markdown",
   "metadata": {},
   "source": [
    "A typical model associates each user u with a userfactors\n",
    "vector $p_{u} \\in R_{f}$, and each item i with an item-factors vector\n",
    "qi ∈ Rf . The prediction is done by taking an inner product, i.e.,\n",
    "$\\tilde{r}_{ui} = b_{ui} + p_{u}^{T}q_{i}$. The more involved part is parameter estimation.\n",
    "\n",
    "In information retrieval it is well established to harness SVD for\n",
    "identifying latent semantic factors. However, applying SVD in\n",
    "the CF domain raises difficulties due to the high portion of missing\n",
    "ratings. Conventional SVD is undefined when knowledge about\n",
    "the matrix is incomplete. Moreover, carelessly addressing only the\n",
    "relatively few known entries is highly prone to overfitting. Earlier\n",
    "works relied on imputation to fill in missing ratings and\n",
    "make the rating matrix dense. However, imputation can be very\n",
    "expensive as it significantly increases the amount of data. In addition,\n",
    "the data may be considerably distorted due to inaccurate\n",
    "imputation. Hence, more recent works suggested\n",
    "modeling directly only the observed ratings, while avoiding\n",
    "overfitting through an adequate regularized model, such as:\n",
    "\n",
    "\\begin{equation*}\n",
    "min_{b_{*}} \\sum_{(u,i)\\subset K} (r_{u,i} - \\mu - b_u - b_i - p_{u}^{T}q_{i})^{2} + \\lambda(b_{u}^{2} + b_{i}^{2})\n",
    "\\end{equation*}\n"
   ]
  },
  {
   "cell_type": "code",
   "execution_count": null,
   "metadata": {
    "collapsed": true
   },
   "outputs": [],
   "source": []
  }
 ],
 "metadata": {
  "kernelspec": {
   "display_name": "Python 2",
   "language": "python",
   "name": "python2"
  },
  "language_info": {
   "codemirror_mode": {
    "name": "ipython",
    "version": 2
   },
   "file_extension": ".py",
   "mimetype": "text/x-python",
   "name": "python",
   "nbconvert_exporter": "python",
   "pygments_lexer": "ipython2",
   "version": "2.7.13"
  }
 },
 "nbformat": 4,
 "nbformat_minor": 2
}
