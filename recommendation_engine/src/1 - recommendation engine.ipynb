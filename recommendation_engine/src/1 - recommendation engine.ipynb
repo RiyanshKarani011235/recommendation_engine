{
 "cells": [
  {
   "cell_type": "code",
   "execution_count": 140,
   "metadata": {
    "collapsed": true,
    "deletable": true,
    "editable": true
   },
   "outputs": [],
   "source": [
    "# imports\n",
    "import pandas as pd\n",
    "import numpy as np\n",
    "import statsmodels.formula.api as sm\n",
    "import scipy.sparse as sp\n",
    "from scipy.sparse.linalg import svds\n",
    "import os\n",
    "import random"
   ]
  },
  {
   "cell_type": "markdown",
   "metadata": {
    "deletable": true,
    "editable": true
   },
   "source": [
    "Loading the Data"
   ]
  },
  {
   "cell_type": "code",
   "execution_count": 141,
   "metadata": {
    "collapsed": false,
    "deletable": true,
    "editable": true
   },
   "outputs": [],
   "source": [
    "# dataset root\n",
    "root_dataset_folder = os.path.join('..', 'data', 'ml-100k')\n",
    "\n",
    "# u.user (Users)\n",
    "user_columns = [\n",
    "    'user_id', \n",
    "    'age', \n",
    "    'sex', \n",
    "    'occupation', \n",
    "    'zip_code'\n",
    "]\n",
    "users = pd.read_csv(os.path.join(root_dataset_folder, 'u.user'), sep='|', names=user_columns, encoding='latin-1')\n",
    "\n",
    "# u.items (Movies)\n",
    "movie_columns = [\n",
    "    'movie_id', \n",
    "    'movie_title' ,\n",
    "    'release_date',\n",
    "    'video_release_date', \n",
    "    'IMDb_URL', \n",
    "    'unknown', \n",
    "    'Action', \n",
    "    'Adventure', \n",
    "    'Animation', \n",
    "    'Children\\'s', \n",
    "    'Comedy', \n",
    "    'Crime', \n",
    "    'Documentary', \n",
    "    'Drama', \n",
    "    'Fantasy', \n",
    "    'Film-Noir', \n",
    "    'Horror', \n",
    "    'Musical', \n",
    "    'Mystery', \n",
    "    'Romance', \n",
    "    'Sci-Fi', \n",
    "    'Thriller', \n",
    "    'War',\n",
    "    'Western'\n",
    "]\n",
    "movies = pd.read_csv(os.path.join(root_dataset_folder, 'u.item'), sep='|', names=movie_columns, encoding='latin-1')\n",
    "\n",
    "# (Ratings)\n",
    "rating_columns = [\n",
    "    'user_id', \n",
    "    'movie_id', \n",
    "    'rating', \n",
    "    'unix_timestamp'\n",
    "]\n",
    "# ua.base\n",
    "data_base = pd.read_csv(os.path.join(root_dataset_folder, 'ua.base'), sep='\\t', names=rating_columns, encoding='latin-1')\n",
    "# ua.test\n",
    "data_test = pd.read_csv(os.path.join(root_dataset_folder, 'ua.test'), sep='\\t', names=rating_columns, encoding='latin-1')"
   ]
  },
  {
   "cell_type": "markdown",
   "metadata": {
    "deletable": true,
    "editable": true
   },
   "source": [
    "Generating the Sparse Rating Matrix"
   ]
  },
  {
   "cell_type": "code",
   "execution_count": 142,
   "metadata": {
    "collapsed": false,
    "deletable": true,
    "editable": true
   },
   "outputs": [
    {
     "name": "stdout",
     "output_type": "stream",
     "text": [
      "movie_id  1     2     3     4     5     6     7     8     9     10    ...   \\\n",
      "user_id                                                               ...    \n",
      "1          5.0   3.0   4.0   3.0   3.0   5.0   4.0   1.0   5.0   3.0  ...    \n",
      "2          4.0   NaN   NaN   NaN   NaN   NaN   NaN   NaN   NaN   2.0  ...    \n",
      "3          NaN   NaN   NaN   NaN   NaN   NaN   NaN   NaN   NaN   NaN  ...    \n",
      "4          NaN   NaN   NaN   NaN   NaN   NaN   NaN   NaN   NaN   NaN  ...    \n",
      "5          NaN   NaN   NaN   NaN   NaN   NaN   NaN   NaN   NaN   NaN  ...    \n",
      "6          4.0   NaN   NaN   NaN   NaN   NaN   2.0   4.0   4.0   NaN  ...    \n",
      "7          NaN   NaN   NaN   5.0   NaN   NaN   5.0   5.0   5.0   4.0  ...    \n",
      "8          NaN   NaN   NaN   NaN   NaN   NaN   3.0   NaN   NaN   NaN  ...    \n",
      "9          NaN   NaN   NaN   NaN   NaN   NaN   4.0   NaN   NaN   NaN  ...    \n",
      "10         4.0   NaN   NaN   4.0   NaN   NaN   NaN   NaN   4.0   NaN  ...    \n",
      "11         NaN   NaN   NaN   NaN   NaN   NaN   NaN   4.0   5.0   NaN  ...    \n",
      "12         NaN   NaN   NaN   5.0   NaN   NaN   NaN   NaN   NaN   NaN  ...    \n",
      "13         3.0   3.0   NaN   5.0   1.0   NaN   2.0   4.0   3.0   NaN  ...    \n",
      "14         NaN   NaN   NaN   NaN   NaN   NaN   5.0   NaN   4.0   NaN  ...    \n",
      "15         1.0   NaN   NaN   NaN   NaN   NaN   1.0   NaN   4.0   NaN  ...    \n",
      "16         5.0   NaN   NaN   5.0   NaN   NaN   5.0   NaN   5.0   NaN  ...    \n",
      "17         NaN   NaN   NaN   NaN   NaN   NaN   4.0   NaN   NaN   NaN  ...    \n",
      "18         5.0   NaN   NaN   3.0   NaN   5.0   NaN   5.0   5.0   NaN  ...    \n",
      "19         NaN   NaN   NaN   NaN   NaN   NaN   NaN   5.0   NaN   NaN  ...    \n",
      "20         3.0   NaN   NaN   NaN   NaN   NaN   NaN   NaN   NaN   NaN  ...    \n",
      "21         5.0   NaN   NaN   NaN   2.0   NaN   5.0   NaN   5.0   NaN  ...    \n",
      "22         NaN   2.0   NaN   5.0   NaN   NaN   NaN   NaN   NaN   NaN  ...    \n",
      "23         5.0   NaN   NaN   NaN   NaN   NaN   4.0   4.0   NaN   NaN  ...    \n",
      "24         NaN   NaN   NaN   NaN   NaN   NaN   4.0   5.0   5.0   NaN  ...    \n",
      "25         5.0   NaN   NaN   NaN   NaN   NaN   4.0   4.0   NaN   NaN  ...    \n",
      "26         3.0   NaN   NaN   NaN   NaN   NaN   3.0   NaN   4.0   NaN  ...    \n",
      "27         NaN   NaN   NaN   NaN   NaN   NaN   NaN   NaN   4.0   NaN  ...    \n",
      "28         NaN   NaN   NaN   NaN   3.0   NaN   NaN   NaN   NaN   NaN  ...    \n",
      "29         NaN   NaN   NaN   NaN   NaN   NaN   NaN   NaN   NaN   NaN  ...    \n",
      "30         NaN   3.0   NaN   NaN   NaN   NaN   4.0   NaN   NaN   NaN  ...    \n",
      "...        ...   ...   ...   ...   ...   ...   ...   ...   ...   ...  ...    \n",
      "914        NaN   NaN   NaN   NaN   NaN   NaN   NaN   NaN   NaN   NaN  ...    \n",
      "915        NaN   NaN   NaN   NaN   NaN   NaN   NaN   NaN   NaN   NaN  ...    \n",
      "916        4.0   3.0   3.0   4.0   3.0   NaN   4.0   NaN   5.0   NaN  ...    \n",
      "917        3.0   NaN   1.0   NaN   NaN   NaN   NaN   NaN   5.0   NaN  ...    \n",
      "918        3.0   NaN   NaN   NaN   NaN   NaN   NaN   NaN   NaN   NaN  ...    \n",
      "919        4.0   NaN   NaN   1.0   4.0   NaN   3.0   NaN   5.0   NaN  ...    \n",
      "920        NaN   NaN   NaN   NaN   NaN   NaN   NaN   NaN   NaN   NaN  ...    \n",
      "921        NaN   NaN   NaN   NaN   NaN   NaN   NaN   NaN   NaN   NaN  ...    \n",
      "922        5.0   NaN   NaN   NaN   NaN   NaN   NaN   NaN   NaN   NaN  ...    \n",
      "923        3.0   NaN   4.0   NaN   NaN   NaN   NaN   NaN   4.0   NaN  ...    \n",
      "924        5.0   3.0   NaN   NaN   NaN   NaN   4.0   NaN   4.0   NaN  ...    \n",
      "925        NaN   NaN   NaN   NaN   NaN   NaN   NaN   NaN   NaN   NaN  ...    \n",
      "926        NaN   NaN   NaN   NaN   NaN   NaN   NaN   NaN   NaN   NaN  ...    \n",
      "927        5.0   NaN   NaN   NaN   NaN   NaN   NaN   4.0   NaN   NaN  ...    \n",
      "928        NaN   NaN   NaN   NaN   NaN   NaN   NaN   NaN   5.0   NaN  ...    \n",
      "929        3.0   NaN   NaN   NaN   NaN   NaN   NaN   NaN   NaN   NaN  ...    \n",
      "930        3.0   NaN   NaN   NaN   NaN   NaN   NaN   NaN   NaN   NaN  ...    \n",
      "931        NaN   NaN   NaN   NaN   NaN   NaN   NaN   NaN   NaN   NaN  ...    \n",
      "932        4.0   NaN   NaN   NaN   NaN   NaN   NaN   NaN   5.0   NaN  ...    \n",
      "933        3.0   NaN   NaN   3.0   NaN   NaN   4.0   NaN   3.0   NaN  ...    \n",
      "934        2.0   4.0   NaN   5.0   NaN   NaN   NaN   NaN   NaN   NaN  ...    \n",
      "935        3.0   NaN   NaN   NaN   NaN   NaN   NaN   NaN   1.0   NaN  ...    \n",
      "936        4.0   NaN   4.0   NaN   NaN   5.0   4.0   NaN   4.0   NaN  ...    \n",
      "937        NaN   NaN   NaN   NaN   NaN   NaN   NaN   NaN   NaN   NaN  ...    \n",
      "938        4.0   NaN   NaN   NaN   NaN   NaN   4.0   NaN   3.0   NaN  ...    \n",
      "939        NaN   NaN   NaN   NaN   NaN   NaN   NaN   NaN   5.0   NaN  ...    \n",
      "940        NaN   NaN   NaN   2.0   NaN   NaN   4.0   5.0   3.0   NaN  ...    \n",
      "941        5.0   NaN   NaN   NaN   NaN   NaN   NaN   NaN   NaN   NaN  ...    \n",
      "942        NaN   NaN   NaN   NaN   NaN   NaN   NaN   NaN   NaN   NaN  ...    \n",
      "943        NaN   5.0   NaN   NaN   NaN   NaN   NaN   NaN   3.0   NaN  ...    \n",
      "\n",
      "movie_id  1673  1674  1675  1676  1677  1678  1679  1680  1681  1682  \n",
      "user_id                                                               \n",
      "1          NaN   NaN   NaN   NaN   NaN   NaN   NaN   NaN   NaN   NaN  \n",
      "2          NaN   NaN   NaN   NaN   NaN   NaN   NaN   NaN   NaN   NaN  \n",
      "3          NaN   NaN   NaN   NaN   NaN   NaN   NaN   NaN   NaN   NaN  \n",
      "4          NaN   NaN   NaN   NaN   NaN   NaN   NaN   NaN   NaN   NaN  \n",
      "5          NaN   NaN   NaN   NaN   NaN   NaN   NaN   NaN   NaN   NaN  \n",
      "6          NaN   NaN   NaN   NaN   NaN   NaN   NaN   NaN   NaN   NaN  \n",
      "7          NaN   NaN   NaN   NaN   NaN   NaN   NaN   NaN   NaN   NaN  \n",
      "8          NaN   NaN   NaN   NaN   NaN   NaN   NaN   NaN   NaN   NaN  \n",
      "9          NaN   NaN   NaN   NaN   NaN   NaN   NaN   NaN   NaN   NaN  \n",
      "10         NaN   NaN   NaN   NaN   NaN   NaN   NaN   NaN   NaN   NaN  \n",
      "11         NaN   NaN   NaN   NaN   NaN   NaN   NaN   NaN   NaN   NaN  \n",
      "12         NaN   NaN   NaN   NaN   NaN   NaN   NaN   NaN   NaN   NaN  \n",
      "13         NaN   NaN   NaN   NaN   NaN   NaN   NaN   NaN   NaN   NaN  \n",
      "14         NaN   NaN   NaN   NaN   NaN   NaN   NaN   NaN   NaN   NaN  \n",
      "15         NaN   NaN   NaN   NaN   NaN   NaN   NaN   NaN   NaN   NaN  \n",
      "16         NaN   NaN   NaN   NaN   NaN   NaN   NaN   NaN   NaN   NaN  \n",
      "17         NaN   NaN   NaN   NaN   NaN   NaN   NaN   NaN   NaN   NaN  \n",
      "18         NaN   NaN   NaN   NaN   NaN   NaN   NaN   NaN   NaN   NaN  \n",
      "19         NaN   NaN   NaN   NaN   NaN   NaN   NaN   NaN   NaN   NaN  \n",
      "20         NaN   NaN   NaN   NaN   NaN   NaN   NaN   NaN   NaN   NaN  \n",
      "21         NaN   NaN   NaN   NaN   NaN   NaN   NaN   NaN   NaN   NaN  \n",
      "22         NaN   NaN   NaN   NaN   NaN   NaN   NaN   NaN   NaN   NaN  \n",
      "23         NaN   NaN   NaN   NaN   NaN   NaN   NaN   NaN   NaN   NaN  \n",
      "24         NaN   NaN   NaN   NaN   NaN   NaN   NaN   NaN   NaN   NaN  \n",
      "25         NaN   NaN   NaN   NaN   NaN   NaN   NaN   NaN   NaN   NaN  \n",
      "26         NaN   NaN   NaN   NaN   NaN   NaN   NaN   NaN   NaN   NaN  \n",
      "27         NaN   NaN   NaN   NaN   NaN   NaN   NaN   NaN   NaN   NaN  \n",
      "28         NaN   NaN   NaN   NaN   NaN   NaN   NaN   NaN   NaN   NaN  \n",
      "29         NaN   NaN   NaN   NaN   NaN   NaN   NaN   NaN   NaN   NaN  \n",
      "30         NaN   NaN   NaN   NaN   NaN   NaN   NaN   NaN   NaN   NaN  \n",
      "...        ...   ...   ...   ...   ...   ...   ...   ...   ...   ...  \n",
      "914        NaN   NaN   NaN   NaN   NaN   NaN   NaN   NaN   NaN   NaN  \n",
      "915        NaN   NaN   NaN   NaN   NaN   NaN   NaN   NaN   NaN   NaN  \n",
      "916        NaN   NaN   NaN   NaN   NaN   NaN   NaN   NaN   NaN   3.0  \n",
      "917        NaN   NaN   NaN   NaN   NaN   NaN   NaN   NaN   NaN   NaN  \n",
      "918        NaN   NaN   NaN   NaN   NaN   NaN   NaN   NaN   NaN   NaN  \n",
      "919        NaN   NaN   NaN   NaN   NaN   NaN   NaN   NaN   NaN   NaN  \n",
      "920        NaN   NaN   NaN   NaN   NaN   NaN   NaN   NaN   NaN   NaN  \n",
      "921        NaN   NaN   NaN   NaN   NaN   NaN   NaN   NaN   NaN   NaN  \n",
      "922        NaN   NaN   NaN   NaN   NaN   NaN   NaN   NaN   NaN   NaN  \n",
      "923        NaN   NaN   NaN   NaN   NaN   NaN   NaN   NaN   NaN   NaN  \n",
      "924        NaN   NaN   NaN   NaN   NaN   NaN   NaN   NaN   NaN   NaN  \n",
      "925        NaN   NaN   NaN   NaN   NaN   NaN   NaN   NaN   NaN   NaN  \n",
      "926        NaN   NaN   NaN   NaN   NaN   NaN   NaN   NaN   NaN   NaN  \n",
      "927        NaN   NaN   NaN   NaN   NaN   NaN   NaN   NaN   NaN   NaN  \n",
      "928        NaN   NaN   NaN   NaN   NaN   NaN   NaN   NaN   NaN   NaN  \n",
      "929        NaN   NaN   NaN   NaN   NaN   NaN   NaN   NaN   NaN   NaN  \n",
      "930        NaN   NaN   NaN   NaN   NaN   NaN   NaN   NaN   NaN   NaN  \n",
      "931        NaN   NaN   NaN   NaN   NaN   NaN   NaN   NaN   NaN   NaN  \n",
      "932        NaN   NaN   NaN   NaN   NaN   NaN   NaN   NaN   NaN   NaN  \n",
      "933        NaN   NaN   NaN   NaN   NaN   NaN   NaN   NaN   NaN   NaN  \n",
      "934        NaN   NaN   NaN   NaN   NaN   NaN   NaN   NaN   NaN   NaN  \n",
      "935        NaN   NaN   NaN   NaN   NaN   NaN   NaN   NaN   NaN   NaN  \n",
      "936        NaN   NaN   NaN   NaN   NaN   NaN   NaN   NaN   NaN   NaN  \n",
      "937        NaN   NaN   NaN   NaN   NaN   NaN   NaN   NaN   NaN   NaN  \n",
      "938        NaN   NaN   NaN   NaN   NaN   NaN   NaN   NaN   NaN   NaN  \n",
      "939        NaN   NaN   NaN   NaN   NaN   NaN   NaN   NaN   NaN   NaN  \n",
      "940        NaN   NaN   NaN   NaN   NaN   NaN   NaN   NaN   NaN   NaN  \n",
      "941        NaN   NaN   NaN   NaN   NaN   NaN   NaN   NaN   NaN   NaN  \n",
      "942        NaN   NaN   NaN   NaN   NaN   NaN   NaN   NaN   NaN   NaN  \n",
      "943        NaN   NaN   NaN   NaN   NaN   NaN   NaN   NaN   NaN   NaN  \n",
      "\n",
      "[943 rows x 1682 columns]\n"
     ]
    }
   ],
   "source": [
    "#Creating sparse_rating_matrix:\n",
    "n_users = users.user_id.unique().shape[0]\n",
    "n_movies = movies.movie_id.unique().shape[0]\n",
    "\n",
    "ratings = np.zeros((n_users, n_movies))\n",
    "# reading ratings from \n",
    "for row in data_base.itertuples():\n",
    "    ratings[row[1]-1 , row[2] -1] = row[3]\n",
    "\n",
    "sparse_rating_matrix = pd.DataFrame(data=ratings,index=users['user_id'],columns=movies['movie_id'])\n",
    "sparse_rating_matrix = sparse_rating_matrix.replace('0',np.nan)\n",
    "print(sparse_rating_matrix)"
   ]
  },
  {
   "cell_type": "markdown",
   "metadata": {
    "deletable": true,
    "editable": true
   },
   "source": [
    "Subtractive Normalization"
   ]
  },
  {
   "cell_type": "code",
   "execution_count": 143,
   "metadata": {
    "collapsed": false,
    "deletable": true,
    "editable": true
   },
   "outputs": [
    {
     "name": "stdout",
     "output_type": "stream",
     "text": [
      "[[ 3.60305344  3.60305344  3.60305344 ...,  3.60305344  3.60305344\n",
      "   3.60305344]\n",
      " [ 3.75        3.75        3.75       ...,  3.75        3.75        3.75      ]\n",
      " [ 2.90909091  2.90909091  2.90909091 ...,  2.90909091  2.90909091\n",
      "   2.90909091]\n",
      " ..., \n",
      " [ 3.83333333  3.83333333  3.83333333 ...,  3.83333333  3.83333333\n",
      "   3.83333333]\n",
      " [ 4.30434783  4.30434783  4.30434783 ...,  4.30434783  4.30434783\n",
      "   4.30434783]\n",
      " [ 3.39240506  3.39240506  3.39240506 ...,  3.39240506  3.39240506\n",
      "   3.39240506]]\n"
     ]
    }
   ],
   "source": [
    "# r_u\n",
    "r_u = sparse_rating_matrix.mean(axis=1)\n",
    "r_u = np.asarray([[element for j in range(n_movies)] for element in r_u])\n",
    "print(r_u)"
   ]
  },
  {
   "cell_type": "code",
   "execution_count": 144,
   "metadata": {
    "collapsed": false,
    "deletable": true,
    "editable": true
   },
   "outputs": [
    {
     "name": "stdout",
     "output_type": "stream",
     "text": [
      "[[ 3.85969388  3.19834711  3.05882353 ...,  2.          3.          3.        ]\n",
      " [ 3.85969388  3.19834711  3.05882353 ...,  2.          3.          3.        ]\n",
      " [ 3.85969388  3.19834711  3.05882353 ...,  2.          3.          3.        ]\n",
      " ..., \n",
      " [ 3.85969388  3.19834711  3.05882353 ...,  2.          3.          3.        ]\n",
      " [ 3.85969388  3.19834711  3.05882353 ...,  2.          3.          3.        ]\n",
      " [ 3.85969388  3.19834711  3.05882353 ...,  2.          3.          3.        ]]\n"
     ]
    }
   ],
   "source": [
    "# r_i\n",
    "r_i = sparse_rating_matrix.mean(axis=0).tolist()\n",
    "r_i = np.asarray([r_i for i in range(n_users)])\n",
    "print(r_i)"
   ]
  },
  {
   "cell_type": "code",
   "execution_count": 145,
   "metadata": {
    "collapsed": false,
    "deletable": true,
    "editable": true
   },
   "outputs": [
    {
     "name": "stdout",
     "output_type": "stream",
     "text": [
      "[[ 3.06679224  3.06679224  3.06679224 ...,  3.06679224  3.06679224\n",
      "   3.06679224]\n",
      " [ 3.06679224  3.06679224  3.06679224 ...,  3.06679224  3.06679224\n",
      "   3.06679224]\n",
      " [ 3.06679224  3.06679224  3.06679224 ...,  3.06679224  3.06679224\n",
      "   3.06679224]\n",
      " ..., \n",
      " [ 3.06679224  3.06679224  3.06679224 ...,  3.06679224  3.06679224\n",
      "   3.06679224]\n",
      " [ 3.06679224  3.06679224  3.06679224 ...,  3.06679224  3.06679224\n",
      "   3.06679224]\n",
      " [ 3.06679224  3.06679224  3.06679224 ...,  3.06679224  3.06679224\n",
      "   3.06679224]]\n"
     ]
    }
   ],
   "source": [
    "# r\n",
    "r_value = sparse_rating_matrix.mean().mean()\n",
    "r   = np.zeros((n_users, n_movies))\n",
    "r.fill(r_value) \n",
    "print(r)"
   ]
  },
  {
   "cell_type": "code",
   "execution_count": 146,
   "metadata": {
    "collapsed": false,
    "deletable": true,
    "editable": true
   },
   "outputs": [
    {
     "name": "stdout",
     "output_type": "stream",
     "text": [
      "(0.580332870725874, 0.5163198650266884, 0.6618013203132993)\n"
     ]
    }
   ],
   "source": [
    "# starting values for alpha, beta and gamma\n",
    "# TODO think of how to start from a sensible point \n",
    "alpha = random.uniform(0, 1)\n",
    "beta = random.uniform(0, 1)\n",
    "gamma = random.uniform(0, 1)\n",
    "print(alpha, beta, gamma)"
   ]
  },
  {
   "cell_type": "code",
   "execution_count": 147,
   "metadata": {
    "collapsed": false,
    "deletable": true,
    "editable": true
   },
   "outputs": [],
   "source": [
    "N = 0 # the number of ratings that are not NaN\n",
    "for element in sparse_rating_matrix.values :\n",
    "    for e in element : \n",
    "        if(not np.isnan(e)) : \n",
    "            N += 1"
   ]
  },
  {
   "cell_type": "markdown",
   "metadata": {},
   "source": [
    "Error Matrix"
   ]
  },
  {
   "cell_type": "code",
   "execution_count": 148,
   "metadata": {
    "collapsed": true
   },
   "outputs": [],
   "source": [
    "def error_matrix() : \n",
    "    return np.subtract(sparse_rating_matrix.values, np.add((alpha*r), (beta*r_u), (gamma*r_i)))"
   ]
  },
  {
   "cell_type": "markdown",
   "metadata": {},
   "source": [
    "Square Error"
   ]
  },
  {
   "cell_type": "code",
   "execution_count": 149,
   "metadata": {
    "collapsed": false,
    "deletable": true,
    "editable": true
   },
   "outputs": [],
   "source": [
    "def square_error() :\n",
    "    err_matrix = error_matrix()\n",
    "    return np.nansum(np.multiply(err_matrix, err_matrix))"
   ]
  },
  {
   "cell_type": "markdown",
   "metadata": {
    "collapsed": true,
    "deletable": true,
    "editable": true
   },
   "source": [
    "Gradient Descent (single iteration)   "
   ]
  },
  {
   "cell_type": "code",
   "execution_count": 150,
   "metadata": {
    "collapsed": false
   },
   "outputs": [],
   "source": [
    "learning_rate = 1\n",
    "\n",
    "def step_gradient() :\n",
    "    global alpha, beta, gamma\n",
    "    \n",
    "    # calculating gradients\n",
    "    alpha_grad = -(2.0/N)*((square_error()*r_value))\n",
    "    beta_grad = -(2.0/N)*np.dot(np.nan_to_num(error_matrix()), np.nan_to_num(np.transpose(r_u))).sum()\n",
    "    gamma_grad = -(2.0/N)*np.dot(np.nan_to_num(error_matrix()), np.nan_to_num(np.transpose(r_i))).sum()\n",
    "    \n",
    "    # updating parameters\n",
    "    alpha -= alpha_grad\n",
    "    beta -= beta_grad\n",
    "    gamma -= gamma_grad"
   ]
  },
  {
   "cell_type": "markdown",
   "metadata": {},
   "source": [
    "Gradient Descent (Linear Regression)"
   ]
  },
  {
   "cell_type": "code",
   "execution_count": 151,
   "metadata": {
    "collapsed": false,
    "scrolled": true
   },
   "outputs": [
    {
     "name": "stdout",
     "output_type": "stream",
     "text": [
      "101114.617244\n",
      "(7.4280202677143121, -509.37477375157783, -25.223058338938042)\n",
      "290418456165.0\n",
      "(19667735.560056552, 12014700.667028045, 11843700.860062812)\n",
      "9.57107541043e+20\n",
      "(64817268036764032.0, -694599574549.14807, -683216379618.92029)\n",
      "3.57868793246e+39\n",
      "(2.4235602053149083e+35, -1.3450344983767055e+21, -1.3210704055883127e+21)\n",
      "5.00334794022e+76\n",
      "(3.3883689190302567e+72, -5.0292342165859193e+39, -4.9396300115951677e+39)\n",
      "9.77990100069e+150\n",
      "(6.6231477358463312e+146, -7.0313503533489029e+76, -6.9060751064046528e+76)\n",
      "3.73664607725e+299\n",
      "(2.5305326714887532e+295, -1.3743979267184752e+151, -1.3499107327917346e+151)\n",
      "inf\n"
     ]
    },
    {
     "name": "stderr",
     "output_type": "stream",
     "text": [
      "/Users/ironstein/anaconda/envs/recommendation_engine/lib/python2.7/site-packages/ipykernel/__main__.py:3: RuntimeWarning: overflow encountered in multiply\n",
      "  app.launch_new_instance()\n"
     ]
    },
    {
     "name": "stdout",
     "output_type": "stream",
     "text": [
      "(inf, -5.2512173907337482e+299, -5.1576581848453944e+299)\n",
      "inf\n",
      "(inf, -inf, -inf)\n",
      "0.0\n"
     ]
    },
    {
     "name": "stderr",
     "output_type": "stream",
     "text": [
      "/Users/ironstein/anaconda/envs/recommendation_engine/lib/python2.7/site-packages/ipykernel/__main__.py:2: RuntimeWarning: invalid value encountered in add\n",
      "  from ipykernel import kernelapp as app\n"
     ]
    },
    {
     "name": "stdout",
     "output_type": "stream",
     "text": [
      "(inf, -inf, -inf)\n",
      "0.0\n",
      "(inf, -inf, -inf)\n",
      "0.0\n",
      "(inf, -inf, -inf)\n",
      "0.0\n",
      "(inf, -inf, -inf)\n",
      "0.0\n",
      "(inf, -inf, -inf)\n",
      "0.0\n",
      "(inf, -inf, -inf)\n",
      "0.0\n",
      "(inf, -inf, -inf)\n",
      "0.0\n",
      "(inf, -inf, -inf)\n",
      "0.0\n",
      "(inf, -inf, -inf)\n",
      "0.0\n",
      "(inf, -inf, -inf)\n",
      "0.0\n",
      "(inf, -inf, -inf)\n",
      "0.0\n",
      "(inf, -inf, -inf)\n",
      "0.0\n",
      "(inf, -inf, -inf)\n",
      "0.0\n",
      "(inf, -inf, -inf)\n",
      "0.0\n",
      "(inf, -inf, -inf)\n",
      "0.0\n",
      "(inf, -inf, -inf)\n",
      "0.0\n"
     ]
    },
    {
     "ename": "KeyboardInterrupt",
     "evalue": "",
     "output_type": "error",
     "traceback": [
      "\u001b[0;31m---------------------------------------------------------------------------\u001b[0m",
      "\u001b[0;31mKeyboardInterrupt\u001b[0m                         Traceback (most recent call last)",
      "\u001b[0;32m<ipython-input-151-15eabaddfb04>\u001b[0m in \u001b[0;36m<module>\u001b[0;34m()\u001b[0m\n\u001b[1;32m      1\u001b[0m \u001b[0;32mfor\u001b[0m \u001b[0mi\u001b[0m \u001b[0;32min\u001b[0m \u001b[0mrange\u001b[0m\u001b[0;34m(\u001b[0m\u001b[0;36m1000\u001b[0m\u001b[0;34m)\u001b[0m \u001b[0;34m:\u001b[0m\u001b[0;34m\u001b[0m\u001b[0m\n\u001b[1;32m      2\u001b[0m     \u001b[0;32mprint\u001b[0m\u001b[0;34m(\u001b[0m\u001b[0msquare_error\u001b[0m\u001b[0;34m(\u001b[0m\u001b[0;34m)\u001b[0m\u001b[0;34m)\u001b[0m\u001b[0;34m\u001b[0m\u001b[0m\n\u001b[0;32m----> 3\u001b[0;31m     \u001b[0mstep_gradient\u001b[0m\u001b[0;34m(\u001b[0m\u001b[0;34m)\u001b[0m\u001b[0;34m\u001b[0m\u001b[0m\n\u001b[0m\u001b[1;32m      4\u001b[0m     \u001b[0;32mprint\u001b[0m\u001b[0;34m(\u001b[0m\u001b[0malpha\u001b[0m\u001b[0;34m,\u001b[0m \u001b[0mbeta\u001b[0m\u001b[0;34m,\u001b[0m \u001b[0mgamma\u001b[0m\u001b[0;34m)\u001b[0m\u001b[0;34m\u001b[0m\u001b[0m\n",
      "\u001b[0;32m<ipython-input-150-d2e53e1f9984>\u001b[0m in \u001b[0;36mstep_gradient\u001b[0;34m()\u001b[0m\n\u001b[1;32m      5\u001b[0m \u001b[0;34m\u001b[0m\u001b[0m\n\u001b[1;32m      6\u001b[0m     \u001b[0;31m# calculating gradients\u001b[0m\u001b[0;34m\u001b[0m\u001b[0;34m\u001b[0m\u001b[0m\n\u001b[0;32m----> 7\u001b[0;31m     \u001b[0malpha_grad\u001b[0m \u001b[0;34m=\u001b[0m \u001b[0;34m-\u001b[0m\u001b[0;34m(\u001b[0m\u001b[0;36m2.0\u001b[0m\u001b[0;34m/\u001b[0m\u001b[0mN\u001b[0m\u001b[0;34m)\u001b[0m\u001b[0;34m*\u001b[0m\u001b[0;34m(\u001b[0m\u001b[0;34m(\u001b[0m\u001b[0msquare_error\u001b[0m\u001b[0;34m(\u001b[0m\u001b[0;34m)\u001b[0m\u001b[0;34m*\u001b[0m\u001b[0mr_value\u001b[0m\u001b[0;34m)\u001b[0m\u001b[0;34m)\u001b[0m\u001b[0;34m\u001b[0m\u001b[0m\n\u001b[0m\u001b[1;32m      8\u001b[0m     \u001b[0mbeta_grad\u001b[0m \u001b[0;34m=\u001b[0m \u001b[0;34m-\u001b[0m\u001b[0;34m(\u001b[0m\u001b[0;36m2.0\u001b[0m\u001b[0;34m/\u001b[0m\u001b[0mN\u001b[0m\u001b[0;34m)\u001b[0m\u001b[0;34m*\u001b[0m\u001b[0mnp\u001b[0m\u001b[0;34m.\u001b[0m\u001b[0mdot\u001b[0m\u001b[0;34m(\u001b[0m\u001b[0mnp\u001b[0m\u001b[0;34m.\u001b[0m\u001b[0mnan_to_num\u001b[0m\u001b[0;34m(\u001b[0m\u001b[0merror_matrix\u001b[0m\u001b[0;34m(\u001b[0m\u001b[0;34m)\u001b[0m\u001b[0;34m)\u001b[0m\u001b[0;34m,\u001b[0m \u001b[0mnp\u001b[0m\u001b[0;34m.\u001b[0m\u001b[0mnan_to_num\u001b[0m\u001b[0;34m(\u001b[0m\u001b[0mnp\u001b[0m\u001b[0;34m.\u001b[0m\u001b[0mtranspose\u001b[0m\u001b[0;34m(\u001b[0m\u001b[0mr_u\u001b[0m\u001b[0;34m)\u001b[0m\u001b[0;34m)\u001b[0m\u001b[0;34m)\u001b[0m\u001b[0;34m.\u001b[0m\u001b[0msum\u001b[0m\u001b[0;34m(\u001b[0m\u001b[0;34m)\u001b[0m\u001b[0;34m\u001b[0m\u001b[0m\n\u001b[1;32m      9\u001b[0m     \u001b[0mgamma_grad\u001b[0m \u001b[0;34m=\u001b[0m \u001b[0;34m-\u001b[0m\u001b[0;34m(\u001b[0m\u001b[0;36m2.0\u001b[0m\u001b[0;34m/\u001b[0m\u001b[0mN\u001b[0m\u001b[0;34m)\u001b[0m\u001b[0;34m*\u001b[0m\u001b[0mnp\u001b[0m\u001b[0;34m.\u001b[0m\u001b[0mdot\u001b[0m\u001b[0;34m(\u001b[0m\u001b[0mnp\u001b[0m\u001b[0;34m.\u001b[0m\u001b[0mnan_to_num\u001b[0m\u001b[0;34m(\u001b[0m\u001b[0merror_matrix\u001b[0m\u001b[0;34m(\u001b[0m\u001b[0;34m)\u001b[0m\u001b[0;34m)\u001b[0m\u001b[0;34m,\u001b[0m \u001b[0mnp\u001b[0m\u001b[0;34m.\u001b[0m\u001b[0mnan_to_num\u001b[0m\u001b[0;34m(\u001b[0m\u001b[0mnp\u001b[0m\u001b[0;34m.\u001b[0m\u001b[0mtranspose\u001b[0m\u001b[0;34m(\u001b[0m\u001b[0mr_i\u001b[0m\u001b[0;34m)\u001b[0m\u001b[0;34m)\u001b[0m\u001b[0;34m)\u001b[0m\u001b[0;34m.\u001b[0m\u001b[0msum\u001b[0m\u001b[0;34m(\u001b[0m\u001b[0;34m)\u001b[0m\u001b[0;34m\u001b[0m\u001b[0m\n",
      "\u001b[0;32m<ipython-input-149-88596afcb6f7>\u001b[0m in \u001b[0;36msquare_error\u001b[0;34m()\u001b[0m\n\u001b[1;32m      1\u001b[0m \u001b[0;32mdef\u001b[0m \u001b[0msquare_error\u001b[0m\u001b[0;34m(\u001b[0m\u001b[0;34m)\u001b[0m \u001b[0;34m:\u001b[0m\u001b[0;34m\u001b[0m\u001b[0m\n\u001b[1;32m      2\u001b[0m     \u001b[0merr_matrix\u001b[0m \u001b[0;34m=\u001b[0m \u001b[0merror_matrix\u001b[0m\u001b[0;34m(\u001b[0m\u001b[0;34m)\u001b[0m\u001b[0;34m\u001b[0m\u001b[0m\n\u001b[0;32m----> 3\u001b[0;31m     \u001b[0;32mreturn\u001b[0m \u001b[0mnp\u001b[0m\u001b[0;34m.\u001b[0m\u001b[0mnansum\u001b[0m\u001b[0;34m(\u001b[0m\u001b[0mnp\u001b[0m\u001b[0;34m.\u001b[0m\u001b[0mmultiply\u001b[0m\u001b[0;34m(\u001b[0m\u001b[0merr_matrix\u001b[0m\u001b[0;34m,\u001b[0m \u001b[0merr_matrix\u001b[0m\u001b[0;34m)\u001b[0m\u001b[0;34m)\u001b[0m\u001b[0;34m\u001b[0m\u001b[0m\n\u001b[0m",
      "\u001b[0;32m/Users/ironstein/anaconda/envs/recommendation_engine/lib/python2.7/site-packages/numpy/lib/nanfunctions.pyc\u001b[0m in \u001b[0;36mnansum\u001b[0;34m(a, axis, dtype, out, keepdims)\u001b[0m\n\u001b[1;32m    535\u001b[0m \u001b[0;34m\u001b[0m\u001b[0m\n\u001b[1;32m    536\u001b[0m     \"\"\"\n\u001b[0;32m--> 537\u001b[0;31m     \u001b[0ma\u001b[0m\u001b[0;34m,\u001b[0m \u001b[0mmask\u001b[0m \u001b[0;34m=\u001b[0m \u001b[0m_replace_nan\u001b[0m\u001b[0;34m(\u001b[0m\u001b[0ma\u001b[0m\u001b[0;34m,\u001b[0m \u001b[0;36m0\u001b[0m\u001b[0;34m)\u001b[0m\u001b[0;34m\u001b[0m\u001b[0m\n\u001b[0m\u001b[1;32m    538\u001b[0m     \u001b[0;32mreturn\u001b[0m \u001b[0mnp\u001b[0m\u001b[0;34m.\u001b[0m\u001b[0msum\u001b[0m\u001b[0;34m(\u001b[0m\u001b[0ma\u001b[0m\u001b[0;34m,\u001b[0m \u001b[0maxis\u001b[0m\u001b[0;34m=\u001b[0m\u001b[0maxis\u001b[0m\u001b[0;34m,\u001b[0m \u001b[0mdtype\u001b[0m\u001b[0;34m=\u001b[0m\u001b[0mdtype\u001b[0m\u001b[0;34m,\u001b[0m \u001b[0mout\u001b[0m\u001b[0;34m=\u001b[0m\u001b[0mout\u001b[0m\u001b[0;34m,\u001b[0m \u001b[0mkeepdims\u001b[0m\u001b[0;34m=\u001b[0m\u001b[0mkeepdims\u001b[0m\u001b[0;34m)\u001b[0m\u001b[0;34m\u001b[0m\u001b[0m\n\u001b[1;32m    539\u001b[0m \u001b[0;34m\u001b[0m\u001b[0m\n",
      "\u001b[0;32m/Users/ironstein/anaconda/envs/recommendation_engine/lib/python2.7/site-packages/numpy/lib/nanfunctions.pyc\u001b[0m in \u001b[0;36m_replace_nan\u001b[0;34m(a, val)\u001b[0m\n\u001b[1;32m     69\u001b[0m     \u001b[0;32mif\u001b[0m \u001b[0;32mnot\u001b[0m \u001b[0mis_new\u001b[0m\u001b[0;34m:\u001b[0m\u001b[0;34m\u001b[0m\u001b[0m\n\u001b[1;32m     70\u001b[0m         \u001b[0;31m# need copy\u001b[0m\u001b[0;34m\u001b[0m\u001b[0;34m\u001b[0m\u001b[0m\n\u001b[0;32m---> 71\u001b[0;31m         \u001b[0ma\u001b[0m \u001b[0;34m=\u001b[0m \u001b[0mnp\u001b[0m\u001b[0;34m.\u001b[0m\u001b[0marray\u001b[0m\u001b[0;34m(\u001b[0m\u001b[0ma\u001b[0m\u001b[0;34m,\u001b[0m \u001b[0msubok\u001b[0m\u001b[0;34m=\u001b[0m\u001b[0mTrue\u001b[0m\u001b[0;34m)\u001b[0m\u001b[0;34m\u001b[0m\u001b[0m\n\u001b[0m\u001b[1;32m     72\u001b[0m \u001b[0;34m\u001b[0m\u001b[0m\n\u001b[1;32m     73\u001b[0m     \u001b[0mmask\u001b[0m \u001b[0;34m=\u001b[0m \u001b[0mnp\u001b[0m\u001b[0;34m.\u001b[0m\u001b[0misnan\u001b[0m\u001b[0;34m(\u001b[0m\u001b[0ma\u001b[0m\u001b[0;34m)\u001b[0m\u001b[0;34m\u001b[0m\u001b[0m\n",
      "\u001b[0;31mKeyboardInterrupt\u001b[0m: "
     ]
    }
   ],
   "source": [
    "for i in range(1000) : \n",
    "    print(square_error())\n",
    "    step_gradient()\n",
    "    print(alpha, beta, gamma)"
   ]
  },
  {
   "cell_type": "markdown",
   "metadata": {},
   "source": [
    "Need regularization (as seen from above run)"
   ]
  },
  {
   "cell_type": "code",
   "execution_count": 152,
   "metadata": {
    "collapsed": false
   },
   "outputs": [
    {
     "name": "stdout",
     "output_type": "stream",
     "text": [
      "(0.7096946440082428, 0.5328473728708358, 0.07457650759813483)\n"
     ]
    }
   ],
   "source": [
    "# starting values for alpha, beta and gamma\n",
    "# TODO think of how to start from a sensible point \n",
    "alpha = random.uniform(0, 1)\n",
    "beta = random.uniform(0, 1)\n",
    "gamma = random.uniform(0, 1)\n",
    "print(alpha, beta, gamma)"
   ]
  },
  {
   "cell_type": "code",
   "execution_count": 154,
   "metadata": {
    "collapsed": false
   },
   "outputs": [],
   "source": [
    "def error_matrix_with_L2_regularization() : \n",
    "    return np.subtract(sparse_rating_matrix.values, np.add((alpha*r), (beta*r_u), (gamma*r_i))) + (alpha**2) + (beta**2) + (gamma**2)\n",
    "\n",
    "def square_error_with_L2_regularization() :\n",
    "    err_matrix = error_matrix()\n",
    "    return np.nansum(np.multiply(err_matrix, err_matrix))\n",
    "\n",
    "learning_rate = 1\n",
    "regularization_parameter = 10\n",
    "\n",
    "def step_gradient_with_L2_regularization() :\n",
    "    global alpha, beta, gamma\n",
    "    \n",
    "    # calculating gradients\n",
    "    alpha_grad = -(2.0/N)*(square_error_with_L2_regularization()*((2*alpha) - r_value))\n",
    "    beta_grad = -(2.0/N)*np.dot(np.nan_to_num(error_matrix()), (2*beta - np.nan_to_num(np.transpose(r_u)))).sum()\n",
    "    gamma_grad = -(2.0/N)*np.dot(np.nan_to_num(error_matrix()), (2*gamma - np.nan_to_num(np.transpose(r_i)))).sum()\n",
    "    \n",
    "    # updating parameters\n",
    "    alpha -= alpha_grad\n",
    "    beta -= beta_grad\n",
    "    gamma -= gamma_grad"
   ]
  },
  {
   "cell_type": "code",
   "execution_count": 155,
   "metadata": {
    "collapsed": false,
    "scrolled": true
   },
   "outputs": [
    {
     "name": "stdout",
     "output_type": "stream",
     "text": [
      "125780.048635\n",
      "(-3.866002026897311, 2523.0545351726937, 2901.8177612923459)\n",
      "7.25276800395e+12\n",
      "(-1729516714.9017489, -84407043928.21994, -97088183331.452896)\n",
      "8.43335129414e+27\n",
      "(-6.4417012427022932e+32, -9.638734257071231e+25, -1.108683772205853e+26)\n",
      "3.53471487145e+71\n",
      "(-1.00561232991024e+100, -7.1825176277816219e+62, -8.2616041952417076e+62)\n",
      "8.6141862807e+205\n",
      "(-3.8257842270122607e+301, -8.3553246693852132e+166, -9.6106113369218989e+166)\n",
      "inf\n"
     ]
    },
    {
     "name": "stderr",
     "output_type": "stream",
     "text": [
      "/Users/ironstein/anaconda/envs/recommendation_engine/lib/python2.7/site-packages/ipykernel/__main__.py:6: RuntimeWarning: overflow encountered in multiply\n"
     ]
    },
    {
     "name": "stdout",
     "output_type": "stream",
     "text": [
      "(-inf, -inf, -inf)\n",
      "inf\n",
      "(-inf, nan, nan)\n",
      "0.0\n"
     ]
    },
    {
     "name": "stderr",
     "output_type": "stream",
     "text": [
      "/Users/ironstein/anaconda/envs/recommendation_engine/lib/python2.7/site-packages/ipykernel/__main__.py:15: RuntimeWarning: invalid value encountered in double_scalars\n"
     ]
    },
    {
     "name": "stdout",
     "output_type": "stream",
     "text": [
      "(nan, nan, nan)\n",
      "0.0\n",
      "(nan, nan, nan)\n",
      "0.0\n",
      "(nan, nan, nan)\n",
      "0.0\n"
     ]
    },
    {
     "ename": "KeyboardInterrupt",
     "evalue": "",
     "output_type": "error",
     "traceback": [
      "\u001b[0;31m---------------------------------------------------------------------------\u001b[0m",
      "\u001b[0;31mKeyboardInterrupt\u001b[0m                         Traceback (most recent call last)",
      "\u001b[0;32m<ipython-input-155-dbd11c9bd225>\u001b[0m in \u001b[0;36m<module>\u001b[0;34m()\u001b[0m\n\u001b[1;32m      1\u001b[0m \u001b[0;32mfor\u001b[0m \u001b[0mi\u001b[0m \u001b[0;32min\u001b[0m \u001b[0mrange\u001b[0m\u001b[0;34m(\u001b[0m\u001b[0;36m1000\u001b[0m\u001b[0;34m)\u001b[0m \u001b[0;34m:\u001b[0m\u001b[0;34m\u001b[0m\u001b[0m\n\u001b[1;32m      2\u001b[0m     \u001b[0;32mprint\u001b[0m\u001b[0;34m(\u001b[0m\u001b[0msquare_error_with_L2_regularization\u001b[0m\u001b[0;34m(\u001b[0m\u001b[0;34m)\u001b[0m\u001b[0;34m)\u001b[0m\u001b[0;34m\u001b[0m\u001b[0m\n\u001b[0;32m----> 3\u001b[0;31m     \u001b[0mstep_gradient_with_L2_regularization\u001b[0m\u001b[0;34m(\u001b[0m\u001b[0;34m)\u001b[0m\u001b[0;34m\u001b[0m\u001b[0m\n\u001b[0m\u001b[1;32m      4\u001b[0m     \u001b[0;32mprint\u001b[0m\u001b[0;34m(\u001b[0m\u001b[0malpha\u001b[0m\u001b[0;34m,\u001b[0m \u001b[0mbeta\u001b[0m\u001b[0;34m,\u001b[0m \u001b[0mgamma\u001b[0m\u001b[0;34m)\u001b[0m\u001b[0;34m\u001b[0m\u001b[0m\n",
      "\u001b[0;32m<ipython-input-154-f7a4e0b1c734>\u001b[0m in \u001b[0;36mstep_gradient_with_L2_regularization\u001b[0;34m()\u001b[0m\n\u001b[1;32m     15\u001b[0m     \u001b[0malpha_grad\u001b[0m \u001b[0;34m=\u001b[0m \u001b[0;34m-\u001b[0m\u001b[0;34m(\u001b[0m\u001b[0;36m2.0\u001b[0m\u001b[0;34m/\u001b[0m\u001b[0mN\u001b[0m\u001b[0;34m)\u001b[0m\u001b[0;34m*\u001b[0m\u001b[0;34m(\u001b[0m\u001b[0msquare_error_with_L2_regularization\u001b[0m\u001b[0;34m(\u001b[0m\u001b[0;34m)\u001b[0m\u001b[0;34m*\u001b[0m\u001b[0;34m(\u001b[0m\u001b[0;34m(\u001b[0m\u001b[0;36m2\u001b[0m\u001b[0;34m*\u001b[0m\u001b[0malpha\u001b[0m\u001b[0;34m)\u001b[0m \u001b[0;34m-\u001b[0m \u001b[0mr_value\u001b[0m\u001b[0;34m)\u001b[0m\u001b[0;34m)\u001b[0m\u001b[0;34m\u001b[0m\u001b[0m\n\u001b[1;32m     16\u001b[0m     \u001b[0mbeta_grad\u001b[0m \u001b[0;34m=\u001b[0m \u001b[0;34m-\u001b[0m\u001b[0;34m(\u001b[0m\u001b[0;36m2.0\u001b[0m\u001b[0;34m/\u001b[0m\u001b[0mN\u001b[0m\u001b[0;34m)\u001b[0m\u001b[0;34m*\u001b[0m\u001b[0mnp\u001b[0m\u001b[0;34m.\u001b[0m\u001b[0mdot\u001b[0m\u001b[0;34m(\u001b[0m\u001b[0mnp\u001b[0m\u001b[0;34m.\u001b[0m\u001b[0mnan_to_num\u001b[0m\u001b[0;34m(\u001b[0m\u001b[0merror_matrix\u001b[0m\u001b[0;34m(\u001b[0m\u001b[0;34m)\u001b[0m\u001b[0;34m)\u001b[0m\u001b[0;34m,\u001b[0m \u001b[0;34m(\u001b[0m\u001b[0;36m2\u001b[0m\u001b[0;34m*\u001b[0m\u001b[0mbeta\u001b[0m \u001b[0;34m-\u001b[0m \u001b[0mnp\u001b[0m\u001b[0;34m.\u001b[0m\u001b[0mnan_to_num\u001b[0m\u001b[0;34m(\u001b[0m\u001b[0mnp\u001b[0m\u001b[0;34m.\u001b[0m\u001b[0mtranspose\u001b[0m\u001b[0;34m(\u001b[0m\u001b[0mr_u\u001b[0m\u001b[0;34m)\u001b[0m\u001b[0;34m)\u001b[0m\u001b[0;34m)\u001b[0m\u001b[0;34m)\u001b[0m\u001b[0;34m.\u001b[0m\u001b[0msum\u001b[0m\u001b[0;34m(\u001b[0m\u001b[0;34m)\u001b[0m\u001b[0;34m\u001b[0m\u001b[0m\n\u001b[0;32m---> 17\u001b[0;31m     \u001b[0mgamma_grad\u001b[0m \u001b[0;34m=\u001b[0m \u001b[0;34m-\u001b[0m\u001b[0;34m(\u001b[0m\u001b[0;36m2.0\u001b[0m\u001b[0;34m/\u001b[0m\u001b[0mN\u001b[0m\u001b[0;34m)\u001b[0m\u001b[0;34m*\u001b[0m\u001b[0mnp\u001b[0m\u001b[0;34m.\u001b[0m\u001b[0mdot\u001b[0m\u001b[0;34m(\u001b[0m\u001b[0mnp\u001b[0m\u001b[0;34m.\u001b[0m\u001b[0mnan_to_num\u001b[0m\u001b[0;34m(\u001b[0m\u001b[0merror_matrix\u001b[0m\u001b[0;34m(\u001b[0m\u001b[0;34m)\u001b[0m\u001b[0;34m)\u001b[0m\u001b[0;34m,\u001b[0m \u001b[0;34m(\u001b[0m\u001b[0;36m2\u001b[0m\u001b[0;34m*\u001b[0m\u001b[0mgamma\u001b[0m \u001b[0;34m-\u001b[0m \u001b[0mnp\u001b[0m\u001b[0;34m.\u001b[0m\u001b[0mnan_to_num\u001b[0m\u001b[0;34m(\u001b[0m\u001b[0mnp\u001b[0m\u001b[0;34m.\u001b[0m\u001b[0mtranspose\u001b[0m\u001b[0;34m(\u001b[0m\u001b[0mr_i\u001b[0m\u001b[0;34m)\u001b[0m\u001b[0;34m)\u001b[0m\u001b[0;34m)\u001b[0m\u001b[0;34m)\u001b[0m\u001b[0;34m.\u001b[0m\u001b[0msum\u001b[0m\u001b[0;34m(\u001b[0m\u001b[0;34m)\u001b[0m\u001b[0;34m\u001b[0m\u001b[0m\n\u001b[0m\u001b[1;32m     18\u001b[0m \u001b[0;34m\u001b[0m\u001b[0m\n\u001b[1;32m     19\u001b[0m     \u001b[0;31m# updating parameters\u001b[0m\u001b[0;34m\u001b[0m\u001b[0;34m\u001b[0m\u001b[0m\n",
      "\u001b[0;32m<ipython-input-148-d2b960d3bd19>\u001b[0m in \u001b[0;36merror_matrix\u001b[0;34m()\u001b[0m\n\u001b[1;32m      1\u001b[0m \u001b[0;32mdef\u001b[0m \u001b[0merror_matrix\u001b[0m\u001b[0;34m(\u001b[0m\u001b[0;34m)\u001b[0m \u001b[0;34m:\u001b[0m\u001b[0;34m\u001b[0m\u001b[0m\n\u001b[0;32m----> 2\u001b[0;31m     \u001b[0;32mreturn\u001b[0m \u001b[0mnp\u001b[0m\u001b[0;34m.\u001b[0m\u001b[0msubtract\u001b[0m\u001b[0;34m(\u001b[0m\u001b[0msparse_rating_matrix\u001b[0m\u001b[0;34m.\u001b[0m\u001b[0mvalues\u001b[0m\u001b[0;34m,\u001b[0m \u001b[0mnp\u001b[0m\u001b[0;34m.\u001b[0m\u001b[0madd\u001b[0m\u001b[0;34m(\u001b[0m\u001b[0;34m(\u001b[0m\u001b[0malpha\u001b[0m\u001b[0;34m*\u001b[0m\u001b[0mr\u001b[0m\u001b[0;34m)\u001b[0m\u001b[0;34m,\u001b[0m \u001b[0;34m(\u001b[0m\u001b[0mbeta\u001b[0m\u001b[0;34m*\u001b[0m\u001b[0mr_u\u001b[0m\u001b[0;34m)\u001b[0m\u001b[0;34m,\u001b[0m \u001b[0;34m(\u001b[0m\u001b[0mgamma\u001b[0m\u001b[0;34m*\u001b[0m\u001b[0mr_i\u001b[0m\u001b[0;34m)\u001b[0m\u001b[0;34m)\u001b[0m\u001b[0;34m)\u001b[0m\u001b[0;34m\u001b[0m\u001b[0m\n\u001b[0m",
      "\u001b[0;31mKeyboardInterrupt\u001b[0m: "
     ]
    }
   ],
   "source": [
    "for i in range(1000) : \n",
    "    print(square_error_with_L2_regularization())\n",
    "\n",
    "    step_gradient_with_L2_regularization()\n",
    "    print(alpha, beta, gamma)"
   ]
  },
  {
   "cell_type": "code",
   "execution_count": 161,
   "metadata": {
    "collapsed": false
   },
   "outputs": [
    {
     "name": "stdout",
     "output_type": "stream",
     "text": [
      "nan\n",
      "3.06679224255\n",
      "4.20114942529\n",
      "3.2676056338\n"
     ]
    }
   ],
   "source": [
    "def r(u, i) : \n",
    "    return sparse_rating_matrix.values[u][i]\n",
    "\n",
    "r_val = sparse_rating_matrix.mean().mean()\n",
    "def r_() : \n",
    "    return r_val\n",
    "\n",
    "r_u_value = sparse_rating_matrix.mean(axis=1)\n",
    "def r_u(i) : \n",
    "    return r_u_value[i]\n",
    "\n",
    "# r_i\n",
    "r_i_value = sparse_rating_matrix.mean(axis=0).tolist()\n",
    "def r_i(u) : \n",
    "    return r_i_value[u]\n",
    "\n",
    "print(r(1,2))\n",
    "print(r_())\n",
    "print(r_u(10))\n",
    "print(r_i(100))"
   ]
  },
  {
   "cell_type": "code",
   "execution_count": null,
   "metadata": {
    "collapsed": true
   },
   "outputs": [],
   "source": []
  }
 ],
 "metadata": {
  "kernelspec": {
   "display_name": "Python 2",
   "language": "python",
   "name": "python2"
  },
  "language_info": {
   "codemirror_mode": {
    "name": "ipython",
    "version": 2
   },
   "file_extension": ".py",
   "mimetype": "text/x-python",
   "name": "python",
   "nbconvert_exporter": "python",
   "pygments_lexer": "ipython2",
   "version": "2.7.13"
  }
 },
 "nbformat": 4,
 "nbformat_minor": 2
}
