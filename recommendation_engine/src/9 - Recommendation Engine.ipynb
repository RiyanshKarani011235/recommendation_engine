{
 "cells": [
  {
   "cell_type": "markdown",
   "metadata": {
    "deletable": true,
    "editable": true
   },
   "source": [
    "# References\n",
    "\n",
    "https://www.cs.purdue.edu/homes/lsi/sigir04-cf-norm.pdf\n",
    "\n",
    "http://www.cs.rochester.edu/twiki/pub/Main/HarpSeminar/Factorization_Meets_the_Neighborhood-_a_Multifaceted_Collaborative_Filtering_Model.pdf\n",
    "\n",
    "https://www.cs.purdue.edu/homes/lsi/sigir04-cf-norm.pdf"
   ]
  },
  {
   "cell_type": "markdown",
   "metadata": {
    "deletable": true,
    "editable": true
   },
   "source": [
    "# Baseline estimates"
   ]
  },
  {
   "cell_type": "markdown",
   "metadata": {
    "deletable": true,
    "editable": true
   },
   "source": [
    "Typical Collaborative Filtering (CF) data exhibit large user and item effects; systematic\n",
    "tendencies for some users to give higher ratings than others,\n",
    "and for some items to receive higher ratings than others. It is customary\n",
    "to adjust the data by accounting for these effects, which we encapsulate \n",
    "within the baseline estimates. Denote by $\\mu$ the overall\n",
    "average rating. A baseline estimate for an unknown rating $r_{ui}$ is\n",
    "denoted by $b_{ui}$ and accounts for the user and item effects:\n",
    "\n",
    "\\begin{equation*}\n",
    "b_{u,i} = \\mu + b_u + b_i\n",
    "\\end{equation*}\n",
    "\n",
    "The parameters $b_u$ and $b_i$ indicate the observer deviations of user $u$ and item $i$ respectively, \n",
    "from the average. For example, suppose\n",
    "that we want a baseline estimate for the rating of the movie Titanic\n",
    "by user Joe. Now, say that the average rating over all movies, µ, is\n",
    "3.7 stars. Furthermore, Titanic is better than an average movie, so it\n",
    "tends to be rated 0.5 stars above the average. On the other hand, Joe\n",
    "is a critical user, who tends to rate 0.3 stars lower than the average.\n",
    "Thus, the baseline estimate for Titanic’s rating by Joe would be 3.9\n",
    "stars by calculating 3.7 − 0.3+0.5. In order to estimate bu and bi\n",
    "one can solve the least squares problem:\n",
    "\n",
    "\\begin{equation*}\n",
    "min_{b_{*}} \\sum_{(u,i)\\subset K} (r_{u,i} - \\mu - b_u - b_i)^{2}\n",
    "\\end{equation*}\n",
    "\n",
    "Here, the first term $\\sum_{(u,i)\\subset K} (r_{u,i} - \\mu - b_u - b_i)^{2}$ strives to find $b_u$'s and $b_i$'s that fit the given ratings. \n",
    "\n",
    "The problem can be formalized as the following (assuming there are $M$ users and $N$ movies) : \n",
    "\n",
    "\\begin{equation*}\n",
    "r_{0, 0} = \\mu + (b_{u_{0}} \\cdot 1 + b_{u_{1}} \\cdot 0 + b_{u_{2}} \\cdot 0 + ... + b_{u_{M}} \\cdot 0) + (b_{i_{0}} \\cdot 1 + b_{i_{1}} \\cdot 0 + b_{i_{2}} \\cdot 0 + ... + b_{i_{N}} \\cdot 0)\\\\\n",
    "r_{0, 1} = \\mu + (b_{u_{0}} \\cdot 1 + b_{u_{1}} \\cdot 0 + b_{u_{2}} \\cdot 0 + ... + b_{u_{M}} \\cdot 0) + (b_{i_{0}} \\cdot 0 + b_{i_{1}} \\cdot 1 + b_{i_{2}} \\cdot 0 + ... + b_{i_{N}} \\cdot 0)\\\\\n",
    "...\\\\\n",
    "r_{1, 0} = \\mu + (b_{u_{0}} \\cdot 0 + b_{u_{1}} \\cdot 1 + b_{u_{2}} \\cdot 0 + ... + b_{u_{M}} \\cdot 0) + (b_{i_{0}} \\cdot 1 + b_{i_{1}} \\cdot 0 + b_{i_{2}} \\cdot 0 + ... + b_{i_{N}} \\cdot 0)\\\\\n",
    "...\\\\\n",
    "r_{M, N} = \\mu + (b_{u_{0}} \\cdot 0 + b_{u_{1}} \\cdot 0 + b_{u_{2}} \\cdot 0 + ... + b_{u_{M}} \\cdot 1) + (b_{i_{0}} \\cdot 0 + b_{i_{1}} \\cdot 0 + b_{i_{2}} \\cdot 0 + ... + b_{i_{N}} \\cdot 1)\n",
    "\\end{equation*}\n",
    "\n",
    "The above set of equations can be more compactly (and more standardly) written as \n",
    "\n",
    "\\begin{equation*}\n",
    "    Y =\n",
    "    \\begin{pmatrix}\n",
    "    r_{0,0} - \\mu\\\\\n",
    "    r_{0,1} - \\mu\\\\\n",
    "    ...\\\\\n",
    "    r_{0,M} - \\mu\\\\\n",
    "    r_{1,0} - \\mu\\\\\n",
    "    r_{1,1} - \\mu\\\\\n",
    "    ...\\\\\n",
    "    r_{N,M} - \\mu\n",
    "    \\end{pmatrix}\n",
    "    X = \n",
    "    \\begin{pmatrix}\n",
    "    1 & 0 & 0 & ... & 0 & 1 & 0 & ... & 0\\\\\n",
    "    1 & 0 & 0 & ... & 0 & 0 & 1 & ... & 0\\\\\n",
    "    \\vdots & \\vdots & \\vdots & \\ddots & \\vdots & \\vdots & \\vdots & \\ddots \\\\\n",
    "    1 & 0 & 0 & ... & 0 & 0 & 0 & ... & 1\\\\\n",
    "    0 & 1 & 0 & ... & 0 & 1 & 0 & ... & 0\\\\\n",
    "    \\vdots & \\vdots & \\vdots & \\ddots & \\vdots & \\vdots & \\vdots & \\ddots \\\\\n",
    "    0 & 0 & 0 & ... & 1 & 0 & 0 & ... & 1\\\\\n",
    "    \\end{pmatrix}\n",
    "    b = \n",
    "    \\begin{pmatrix}\n",
    "    b_{u_{0}}\\\\\n",
    "    b_{u_{1}}\\\\\n",
    "    ...\\\\\n",
    "    b_{u_{M}}\\\\\n",
    "    b_{i_{0}}\\\\\n",
    "    b_{i_{1}}\\\\\n",
    "    ...\\\\\n",
    "    b_{i_{N}}\n",
    "    \\end{pmatrix}\n",
    "\\end{equation*}\n",
    "\n",
    "The relationship between these three matrices give us the formalized representation of the problem\n",
    "\n",
    "\\begin{equation*}\n",
    "Y = X * b\\tag{2}\n",
    "\\end{equation*}\n",
    "\n",
    "So, our problem can now be restated to finding a configuration of the parameter matrix $b$ that minimizes the squared error in equation 1. The solution to this problem is straightforward when using Linear Regression, by which the parameter matrix that satisfies the conditions in equation 1 can be given as :\n",
    "\n",
    "\\begin{equation*}\n",
    "b = (X^{T}X)^{-1}X^{T}Y\\tag{3}\n",
    "\\end{equation*}"
   ]
  },
  {
   "cell_type": "markdown",
   "metadata": {
    "deletable": true,
    "editable": true
   },
   "source": [
    "# Baseline estimates"
   ]
  },
  {
   "cell_type": "code",
   "execution_count": 2,
   "metadata": {
    "collapsed": false,
    "deletable": true,
    "editable": true,
    "scrolled": true
   },
   "outputs": [],
   "source": [
    "# imports\n",
    "import pandas as pd\n",
    "import numpy as np\n",
    "import statsmodels.formula.api as sm\n",
    "import scipy.sparse as sp\n",
    "from scipy.sparse.linalg import svds\n",
    "import os\n",
    "import random\n",
    "\n",
    "# dataset root\n",
    "root_dataset_folder = os.path.join('..', 'data', 'ml-100k')\n",
    "\n",
    "# u.user (Users)\n",
    "user_columns = [\n",
    "    'user_id', \n",
    "    'age', \n",
    "    'sex', \n",
    "    'occupation', \n",
    "    'zip_code'\n",
    "]\n",
    "users = pd.read_csv(os.path.join(root_dataset_folder, 'u.user'), sep='|', names=user_columns, encoding='latin-1')\n",
    "\n",
    "# u.items (Movies)\n",
    "movie_columns = [\n",
    "    'movie_id', \n",
    "    'movie_title' ,\n",
    "    'release_date',\n",
    "    'video_release_date', \n",
    "    'IMDb_URL', \n",
    "    'unknown', \n",
    "    'Action', \n",
    "    'Adventure', \n",
    "    'Animation', \n",
    "    'Children\\'s', \n",
    "    'Comedy', \n",
    "    'Crime', \n",
    "    'Documentary', \n",
    "    'Drama', \n",
    "    'Fantasy', \n",
    "    'Film-Noir', \n",
    "    'Horror', \n",
    "    'Musical', \n",
    "    'Mystery', \n",
    "    'Romance', \n",
    "    'Sci-Fi', \n",
    "    'Thriller', \n",
    "    'War',\n",
    "    'Western'\n",
    "]\n",
    "movies = pd.read_csv(os.path.join(root_dataset_folder, 'u.item'), sep='|', names=movie_columns, encoding='latin-1')\n",
    "\n",
    "#Creating sparse_rating_matrix:\n",
    "M = users.user_id.unique().shape[0]\n",
    "N = movies.movie_id.unique().shape[0]\n",
    "\n",
    "ratings = np.zeros((M, N))\n",
    "# reading ratings from \n",
    "# (Ratings)\n",
    "rating_columns = [\n",
    "    'user_id', \n",
    "    'movie_id', \n",
    "    'rating', \n",
    "    'unix_timestamp'\n",
    "]\n",
    "# ua.base\n",
    "data_base = pd.read_csv(os.path.join(root_dataset_folder, 'ua.base'), sep='\\t', names=rating_columns, encoding='latin-1')\n",
    "\n",
    "for row in data_base.itertuples():\n",
    "    ratings[row[1]-1 , row[2] -1] = row[3]\n",
    "\n",
    "sparse_rating_matrix = pd.DataFrame(data=ratings,index=users['user_id'],columns=movies['movie_id'])\n",
    "sparse_rating_matrix = sparse_rating_matrix.replace('0',np.nan)\n",
    "sparse_rating_matrix = sparse_rating_matrix.values"
   ]
  },
  {
   "cell_type": "markdown",
   "metadata": {
    "deletable": true,
    "editable": true
   },
   "source": [
    "In our dataset, the Sparse Rating matrix being very sparse (hence the name), a lot of the entries in the matrix $Y$ will be NaN. This will lead to most of the entries in the parameter matrix $b$ to also result in NaN. To overcome this problem, we remove the rows in the matrix $Y$ with values NaN, and the corresponding rows in matrix $X$."
   ]
  },
  {
   "cell_type": "code",
   "execution_count": 3,
   "metadata": {
    "collapsed": true,
    "deletable": true,
    "editable": true
   },
   "outputs": [],
   "source": [
    "# generating the X and Y matrices, for linear regression\n",
    "Y = []\n",
    "X = []\n",
    "mean = np.nanmean(sparse_rating_matrix)\n",
    "for m in range(M) : \n",
    "    for n in range(N) : \n",
    "        if not np.isnan(sparse_rating_matrix[m][n]) : \n",
    "            Y.append(sparse_rating_matrix[m][n] - mean)\n",
    "            x = np.zeros(M+N)\n",
    "            x[m] = 1\n",
    "            x[M + n] = 1\n",
    "            X.append(x)\n",
    "X = np.array(X)\n",
    "Y = np.array(Y)"
   ]
  },
  {
   "cell_type": "code",
   "execution_count": 4,
   "metadata": {
    "collapsed": false,
    "deletable": true,
    "editable": true,
    "scrolled": true
   },
   "outputs": [],
   "source": [
    "# then \"lstsq\" function performs the least squares linear regression\n",
    "b = np.linalg.lstsq(X, Y)[0]"
   ]
  },
  {
   "cell_type": "markdown",
   "metadata": {
    "deletable": true,
    "editable": true
   },
   "source": [
    "# Regularization in linear regression"
   ]
  },
  {
   "cell_type": "markdown",
   "metadata": {
    "collapsed": true,
    "deletable": true,
    "editable": true
   },
   "source": [
    "These parameters represent the optimum solution to equation 2, but the values here are very large. In linear regression, large values represent overfitting and we certainly don't want our model to overfit. For this reason, we introduce a regularization term in equation 1\n",
    "\n",
    "\\begin{equation*}\n",
    "b_{u,i} = \\mu + b_u + b_i + \\lambda_{1} (\\sum_{u} b_u^2 + \\sum_{i} b_i^2)\\tag{4}. \n",
    "\\end{equation*}\n",
    "\n",
    "Ther regularizing term - $\\lambda_{1} (\\sum_{u} b_u^2 + \\sum_{i} b_i^2)$ - avoids overfitting by penalizing the magnitudes of the parameters.\n",
    "\n",
    "In terms of linear regression, this regularization terms can be incorporated by modifying equation 3 by writing so ([link](http://eniac.cs.qc.cuny.edu/andrew/gcml/lecture5.pdf))\n",
    "\n",
    "\\begin{equation*}\n",
    "b = (X^{T}X - \\lambda I)^{-1}X^{T}Y\\tag{3}\n",
    "\\end{equation*}\n",
    "\n",
    "\\begin{equation*}\n",
    "let\\ t_1 = (X^{T}X - \\lambda I)^{-1}, t_2 = X^{T}Y\\\\\n",
    "then,\\ b = t_1\\cdot t_2\n",
    "\\end{equation*}"
   ]
  },
  {
   "cell_type": "code",
   "execution_count": 5,
   "metadata": {
    "collapsed": true,
    "deletable": true,
    "editable": true
   },
   "outputs": [],
   "source": [
    "lambda_ = 0.1\n",
    "X_transpose = np.transpose(X)\n",
    "t1 = np.linalg.inv(np.dot(X_transpose, X) - (lambda_*np.identity(X.shape[1])))\n",
    "t2 = np.dot(X_transpose, Y)\n",
    "b = np.dot(t1, t2)"
   ]
  },
  {
   "cell_type": "code",
   "execution_count": 6,
   "metadata": {
    "collapsed": true,
    "deletable": true,
    "editable": true
   },
   "outputs": [],
   "source": [
    "b_u = b[:M]\n",
    "b_i = b[M:]"
   ]
  },
  {
   "cell_type": "code",
   "execution_count": 7,
   "metadata": {
    "collapsed": false,
    "deletable": true,
    "editable": true
   },
   "outputs": [
    {
     "name": "stdout",
     "output_type": "stream",
     "text": [
      "0.910223621593\n"
     ]
    }
   ],
   "source": [
    "def rmse() : \n",
    "    error = 0\n",
    "    count = 0\n",
    "    for m in range(M) : \n",
    "        for n in range(N) : \n",
    "            if not np.isnan(sparse_rating_matrix[m][n]) : \n",
    "                err = sparse_rating_matrix[m][n] - mean - b_u[m] - b_i[n]\n",
    "                error += err**2\n",
    "                count += 1\n",
    "    \n",
    "    error = (error/count)**0.5\n",
    "    return error\n",
    "\n",
    "print(rmse())"
   ]
  },
  {
   "cell_type": "markdown",
   "metadata": {
    "collapsed": true,
    "deletable": true,
    "editable": true
   },
   "source": [
    "Now, we can build a matrix $B$ called the baseline matrix, which is basically the matrix of the baseline predictions"
   ]
  },
  {
   "cell_type": "code",
   "execution_count": 8,
   "metadata": {
    "collapsed": false,
    "deletable": true,
    "editable": true
   },
   "outputs": [],
   "source": [
    "# generating baseline estimate matrix\n",
    "baseline_estimate_matrix = np.zeros((M, N))\n",
    "for m in range(M) : \n",
    "        for n in range(N) : \n",
    "            if not np.isnan(sparse_rating_matrix[m][n]) : \n",
    "                estimate = mean + b_u[m] + b_i[n]\n",
    "                baseline_estimate_matrix[m][n] = estimate \n"
   ]
  },
  {
   "cell_type": "markdown",
   "metadata": {
    "deletable": true,
    "editable": true
   },
   "source": [
    "# Baseline estimates error"
   ]
  },
  {
   "cell_type": "code",
   "execution_count": 9,
   "metadata": {
    "collapsed": true,
    "deletable": true,
    "editable": true
   },
   "outputs": [],
   "source": [
    "# error matrix will be the element wise difference of the \n",
    "# baseline estimate matrix and the sparse rating matrix\n",
    "error_vector = []\n",
    "for m in range(M) : \n",
    "    for n in range(N) : \n",
    "        if not np.isnan(sparse_rating_matrix[m][n]) : \n",
    "            error_vector.append(abs(sparse_rating_matrix[m][n] - mean - b_u[m] - b_i[n]))\n",
    "error_vector = np.array(error_vector)"
   ]
  },
  {
   "cell_type": "code",
   "execution_count": 10,
   "metadata": {
    "collapsed": false,
    "deletable": true,
    "editable": true
   },
   "outputs": [
    {
     "data": {
      "image/png": "[encoded data removed]",
      "text/plain": [
       "<matplotlib.figure.Figure at 0x118da2fd0>"
      ]
     },
     "metadata": {},
     "output_type": "display_data"
    }
   ],
   "source": [
    "import matplotlib.pyplot as plt\n",
    "error_vectors_list = [[element for element in error_vector[error_vector <= 0.5]]]\n",
    "error_vectors_list.append([element for element in error_vector[(error_vector <= 1) & (error_vector > 0.5)]])\n",
    "error_vectors_list.append([element for element in error_vector[(error_vector <= 1.5) & (error_vector > 1)]])\n",
    "error_vectors_list.append([element for element in error_vector[(error_vector <= 2) & (error_vector > 1.5)]])\n",
    "error_vectors_list.append([element for element in error_vector[(error_vector <= 2.5) & (error_vector > 2)]])\n",
    "error_vectors_list.append([element for element in error_vector[(error_vector <= 3) & (error_vector > 2.5)]])\n",
    "error_vectors_list.append([element for element in error_vector[(error_vector <= 3.5) & (error_vector > 3)]])\n",
    "\n",
    "plt.plot([0.5, 1, 1.5, 2, 2.5, 3, 3.5], [len(element) for element in error_vectors_list])\n",
    "plt.show()"
   ]
  },
  {
   "cell_type": "markdown",
   "metadata": {
    "deletable": true,
    "editable": true
   },
   "source": [
    "# Item based Nearest Neighbourhood model"
   ]
  },
  {
   "cell_type": "markdown",
   "metadata": {
    "deletable": true,
    "editable": true
   },
   "source": [
    "Central to most item-oriented approaches is a similarity measure\n",
    "between items. Frequently, it is based on the Pearson correlation\n",
    "coefficient, $\\rho_{ij}$ , which measures the tendency of users to rate items\n",
    "$i$ and $j$ similarly. Since many ratings are unknown, it is expected\n",
    "that some items share only a handful of common raters. Computation\n",
    "of the correlation coefficient is based only on the common user\n",
    "support. Accordingly, similarities based on a greater user support\n",
    "are more reliable. An appropriate similarity measure, denoted by\n",
    "$s_{ij}$, would be a shrunk correlation coefficient\n",
    "\n",
    "\\begin{equation*}\n",
    "s_{ij} = \\frac{n_{ij}}{n_{ij} + \\lambda_{2}} \\cdot \\rho_{ij}\n",
    "\\end{equation*}\n",
    "\n",
    "Here, $\\rho_{ij}$ is the <b>Pearson Corellation Coefficient</b> given by [(link)](http://www.cs.carleton.edu/cs_comps/0607/recommend/recommender/itembased.html)\n",
    "\\begin{equation*}\n",
    "\\rho_{ij} = \\frac{\\sum_{u \\in U} (R_{u,i} - \\overline R_i)(R_{u,j} - \\overline R_j)}{\\sqrt{\\sum_{u \\in U} (R_{u,i} - \\overline R_i)^2} \\sqrt{\\sum_{u \\in U} (R_{u,j} - \\overline R_j)^2}}\n",
    "\\end{equation*}\n",
    "\n",
    "$R_{u,i}$ is the rating that user $u$ has given to item $i$, and $\\overline R_i$ is the average rating for item $i$"
   ]
  },
  {
   "cell_type": "markdown",
   "metadata": {
    "deletable": true,
    "editable": true
   },
   "source": [
    "# Involving features for better similarity estimates"
   ]
  },
  {
   "cell_type": "markdown",
   "metadata": {
    "deletable": true,
    "editable": true
   },
   "source": [
    "Though the Pearson Corellation coefficient is a very standard similarity measure, it does not include any information from the features already available. We have, in our dataset, information about the genre of each movies, and this should (intutively) be a very good addition to the similarity of two movies. To include this information in our model, we modify the Pearson Corellation Coefficient like follows\n",
    "\n",
    "\\begin{equation*}\n",
    "\\overline \\rho_{ij} = w_1 \\cdot \\frac{\\sum_{u \\in U} (R_{u,i} - \\overline R_i)(R_{u,j} - \\overline R_j)}{\\sqrt{\\sum_{u \\in U} (R_{u,i} - \\overline R_i)^2} \\sqrt{\\sum_{u \\in U} (R_{u,j} - \\overline R_j)^2}} + w_2 \\cdot G_{i,j}\n",
    "\\end{equation*}\n",
    "\n",
    "Here, the term $G_{i,j}$ is the similarity of movies based only on the genres that the movies belong to. For example, the genres <b>Animation</b> and <b>Children's</b> are similar, but the genres <b>Action</b> and <b>Documentary</b> are quite different. This can also be seen from the movie genre data that we have"
   ]
  },
  {
   "cell_type": "code",
   "execution_count": 11,
   "metadata": {
    "collapsed": false,
    "deletable": true,
    "editable": true,
    "scrolled": true
   },
   "outputs": [],
   "source": [
    "movies = pd.read_csv(os.path.join(root_dataset_folder, 'u.item'), sep='|', names=movie_columns, encoding='latin-1')\n",
    "genre_matrix = movies.drop('movie_id', 1).drop('movie_title', 1).drop('release_date', 1).drop('video_release_date', 1).drop('IMDb_URL', 1).drop('unknown', 1)"
   ]
  },
  {
   "cell_type": "markdown",
   "metadata": {
    "deletable": true,
    "editable": true
   },
   "source": [
    "In order to accomodate such observations into our estimate of $G_{ij}$, we need to build a model that encompasses such relations between genres. A model such as below should do well\n",
    "\n",
    "\\begin{equation*}\n",
    "g_{ij} = \\frac{w_1 \\cdot (\\# \\; times \\; g_i \\; and \\; g_j \\; occured \\; in \\; the \\; same \\; movie) - w_2 \\cdot (\\# \\; times \\; only\\; one \\; of \\; g_i \\; and \\; g_j \\; occured \\; in \\; a \\; movie)}\n",
    "{max \\; (g_{ij})}\n",
    "\\end{equation*}\n",
    "\n",
    "This should give us a genre similarity rating between -1 and 1, <b>-1</b> being very different and <b>1</b> being very similar. We could then build a matrix that would give us the similarity between two genres. An upper triangular matrix of the form as show below should suffice\n",
    "\n",
    "\\begin{equation*}\n",
    "    g = \n",
    "    \\begin{pmatrix}\n",
    "    0 & g_{01} & g_{02} & g_{03} & ... & g_{0,n-1} & g_{0n}\\\\\n",
    "    0 & 0 & g_{12} & g_{13} &  ... & g_{1,n-1} & g_{1n}\\\\\n",
    "    0 & 0 & 0 & g{23} & ... & g_{2,n-1} & g_{2n}\\\\\n",
    "    \\vdots & \\vdots & \\vdots & \\vdots & \\ddots & \\vdots & \\vdots\\\\\n",
    "    0 & 0 & 0 & 0 & ... & g_{n-2,n-1} & g_{n-2,n}\\\\\n",
    "    0 & 0 & 0 & 0 & ... & 0 & g_{n-1, n}\n",
    "    \\end{pmatrix}\n",
    "\\end{equation*}"
   ]
  },
  {
   "cell_type": "code",
   "execution_count": 12,
   "metadata": {
    "collapsed": false,
    "deletable": true,
    "editable": true,
    "scrolled": true
   },
   "outputs": [],
   "source": [
    "# CONSTANTS\n",
    "w1 = 1.0                    # amount of reward added when both ratings are 1\n",
    "w2 = 0.675                  # amount of reward subtracted when one rating is 1 and another rating is 0\n",
    "w3 = 0.3                    # amount of reward added when both ratings are 0\n",
    "\n",
    "g_matrix = genre_matrix.values\n",
    "g = np.array([np.array([0.0 for i in range(g_matrix.shape[1])]) for j in range(g_matrix.shape[1])])\n",
    "count = 0\n",
    "for movie_genres in g_matrix : \n",
    "    for i in range(len(movie_genres)) :\n",
    "        for j in range(i+1, len(movie_genres)) : \n",
    "            ij = (movie_genres[i], movie_genres[j])\n",
    "            if ij == (0, 1) or ij == (1, 0) :\n",
    "                g[i][j] -= w2 * 1.0\n",
    "            elif ij == (1, 1) : \n",
    "                g[i][j] += w1 * 1.0\n",
    "            elif ij == (0, 0) : \n",
    "                g[i][j] += w3\n",
    "            count += 1.0\n",
    "\n",
    "# normalizing the g matrix with values between -1 and 1\n",
    "max_val = max(g.min(), g.max(), key=abs)\n",
    "for i in range(len(g)) : \n",
    "    for j in range(len(g)) : \n",
    "        g[i][j] /= max_val"
   ]
  },
  {
   "cell_type": "markdown",
   "metadata": {
    "deletable": true,
    "editable": true
   },
   "source": [
    "After this, finding the value of $g_{ij}$ for a pair of movies $(i,j)$ is simply a matter of adding the $g_{mn}$ values of all the pair of genres $(m,n) \\in (m \\neq 0 \\in genre-matrix[i], \\; n \\neq 0 \\in genre-matrix[j])$ \n",
    "\n",
    "\\begin{equation*}\n",
    "G_{ij} = \\frac{1}{N} \\sum g_{mn} \\; \\forall \\; \\{(m,n) \\; | \\; m \\neq 0 \\in genre \\; matrix[i], \\; n \\neq 0 \\in genre \\; matrix[j]\\}\n",
    "\\end{equation*}"
   ]
  },
  {
   "cell_type": "code",
   "execution_count": 13,
   "metadata": {
    "collapsed": false,
    "deletable": true,
    "editable": true,
    "scrolled": true
   },
   "outputs": [],
   "source": [
    "G = np.array([np.array([0.0 for i in range(g_matrix.shape[0])]) for j in range(g_matrix.shape[0])])\n",
    "\n",
    "def G_ij(i, j) : \n",
    "    sum_ = 0\n",
    "    genre_matrix_i = g_matrix[i]\n",
    "    genre_matrix_j = g_matrix[j]\n",
    "    count = 0\n",
    "    for m in range(len(genre_matrix_i)) :\n",
    "        ei = genre_matrix_i[m]\n",
    "        if ei : \n",
    "            for n in range(len(genre_matrix_j)) :\n",
    "                ej = genre_matrix_j[n]\n",
    "                if ej : \n",
    "                    sum_ += g[m][n]\n",
    "                    count += 1\n",
    "    if count is not 0 : \n",
    "        sum_ /= count\n",
    "    return sum_\n",
    "\n",
    "for i in range(len(g_matrix)) : \n",
    "    for j in range(i+1, len(g_matrix)) : \n",
    "        G[i][j] = G_ij(i,j)"
   ]
  },
  {
   "cell_type": "code",
   "execution_count": 14,
   "metadata": {
    "collapsed": false,
    "deletable": true,
    "editable": true,
    "scrolled": true
   },
   "outputs": [],
   "source": [
    "# for any movie-movie pair (i,j), n[i][j] will indicate the\n",
    "# number of users that have rated both the movies\n",
    "n = np.zeros((sparse_rating_matrix.shape[1], sparse_rating_matrix.shape[1]))\n",
    "for i in range(sparse_rating_matrix.shape[1]) : \n",
    "    for j in range(i+1, sparse_rating_matrix.shape[1]) : \n",
    "        R_i = sparse_rating_matrix[:, i]\n",
    "        R_j = sparse_rating_matrix[:, j]\n",
    "        R_i = np.nan_to_num(R_i)\n",
    "        R_j = np.nan_to_num(R_j)\n",
    "        R_i[R_i != 0] = 1\n",
    "        R_j[R_j != 0] = 1\n",
    "        n[i][j] = np.dot(R_i, R_j)"
   ]
  },
  {
   "cell_type": "code",
   "execution_count": 15,
   "metadata": {
    "collapsed": true,
    "deletable": true,
    "editable": true
   },
   "outputs": [],
   "source": [
    "def r(u, i) : \n",
    "    return sparse_rating_matrix[u][i]\n",
    "\n",
    "# r_i\n",
    "r_i_value = sparse_rating_matrix.mean(axis=0).tolist()\n",
    "def r_i(u) : \n",
    "    return r_i_value[u]"
   ]
  },
  {
   "cell_type": "code",
   "execution_count": 16,
   "metadata": {
    "collapsed": false,
    "deletable": true,
    "editable": true,
    "scrolled": false
   },
   "outputs": [
    {
     "name": "stderr",
     "output_type": "stream",
     "text": [
      "/Users/ironstein/anaconda/envs/recommendation_engine/lib/python2.7/site-packages/ipykernel/__main__.py:13: RuntimeWarning: invalid value encountered in double_scalars\n",
      "/Users/ironstein/anaconda/envs/recommendation_engine/lib/python2.7/site-packages/ipykernel/__main__.py:8: RuntimeWarning: Mean of empty slice\n",
      "/Users/ironstein/anaconda/envs/recommendation_engine/lib/python2.7/site-packages/ipykernel/__main__.py:6: RuntimeWarning: Mean of empty slice\n"
     ]
    }
   ],
   "source": [
    "rho = np.zeros((sparse_rating_matrix.shape[1], sparse_rating_matrix.shape[1]))\n",
    "for i in range(sparse_rating_matrix.shape[1]) : \n",
    "    for j in range(i+1, sparse_rating_matrix.shape[1]) : \n",
    "        num = 0\n",
    "        R_i = sparse_rating_matrix[:, i]\n",
    "        R_i = R_i - np.nanmean(R_i, axis=0)\n",
    "        R_j = sparse_rating_matrix[:, j]\n",
    "        R_j = R_j - np.nanmean(R_j, axis=0)\n",
    "        R_i = np.nan_to_num(R_i)\n",
    "        R_j = np.nan_to_num(R_j)\n",
    "        numerator = np.dot(R_i, R_j)\n",
    "        denominator = np.dot(R_i, R_i) * np.dot(R_j, R_j)\n",
    "        val = numerator/denominator\n",
    "        if np.isnan(val) : \n",
    "            rho[i][j] = 0\n",
    "        else :     \n",
    "            rho[i][j] = val"
   ]
  },
  {
   "cell_type": "code",
   "execution_count": 17,
   "metadata": {
    "collapsed": false,
    "deletable": true,
    "editable": true
   },
   "outputs": [],
   "source": [
    "w1 = 1\n",
    "w2 = 1\n",
    "rho_ = (w1*rho) + (w2*G)"
   ]
  },
  {
   "cell_type": "code",
   "execution_count": 18,
   "metadata": {
    "collapsed": false,
    "deletable": true,
    "editable": true
   },
   "outputs": [],
   "source": [
    "lambda_2 = 0\n",
    "s = (n/(n + 100)) * rho_"
   ]
  },
  {
   "cell_type": "markdown",
   "metadata": {
    "deletable": true,
    "editable": true
   },
   "source": [
    "# Recommendation for a user"
   ]
  },
  {
   "cell_type": "markdown",
   "metadata": {
    "deletable": true,
    "editable": true
   },
   "source": [
    "Our goal is to predict rui – the unobserved rating by user u for\n",
    "item i. Using the similarity measure, we identify the k items rated\n",
    "by u, which are most similar to i. This set of k neighbors is denoted\n",
    "by $S^k_{(i; u)}$. The predicted value of rui is taken as a weighted average\n",
    "of the ratings of neighboring items, while adjusting for user\n",
    "and item effects through the baseline estimates:\n",
    "$rˆ_{ui} = b_{ui} + \\frac{\\sum{j∈S_k(i;u)} s_{ij} (r_{uj} − b_{uj} )}{j \\in S^k_{(i;u)} s_{ij}}$"
   ]
  },
  {
   "cell_type": "code",
   "execution_count": 19,
   "metadata": {
    "collapsed": false,
    "deletable": true,
    "editable": true
   },
   "outputs": [],
   "source": [
    "sparse_rating_matrix = pd.DataFrame(data=ratings,index=users['user_id'],columns=movies['movie_id'])\n",
    "sparse_rating_matrix = sparse_rating_matrix.replace('0',np.nan)\n",
    "sparse_rating_matrix = sparse_rating_matrix.values\n",
    "k = 15 # number of nearest neighbours to consider for each movie\n",
    "\n",
    "# returns the indices of k max elements in the array \n",
    "# @param {k} : number of indices to return\n",
    "# @param {array} : the array in which to look for the k max elements\n",
    "def k_max_indices(array, k) : \n",
    "    return_array = []\n",
    "    for i in range(k) : \n",
    "        max_ = -1000\n",
    "        max_index = -1\n",
    "        for j in range(len(array)) : \n",
    "            if array[j] > max_ and j not in return_array : \n",
    "                max_ = array[j]\n",
    "                max_index = j\n",
    "        return_array.append(max_index)\n",
    "    return return_array\n",
    "\n",
    "# returns the k most similar movies to the movie \"i\"\n",
    "# @param {k} : the number of nearest neighbours to return\n",
    "# @param {i} : the movie for which to look for nearest neighbours\n",
    "def knn(k, i) :\n",
    "    row = s[i][i+1:].tolist()\n",
    "    array = s[:,i][:i].tolist()\n",
    "    array.append(0)\n",
    "    array.extend(row)\n",
    "    return k_max_indices(array, k)\n",
    "\n",
    "# takes in a user id, and looks at the 5 highest rated movies by that user\n",
    "# then, finds k nearest neighbours for all the 5 movies and returns the\n",
    "# 5 highest rated movies from that list\n",
    "# @param {user_id} : the user for whom to recommend movies\n",
    "def recommend(user_id) : \n",
    "    user_rating_matrix = sparse_rating_matrix[user_id]\n",
    "    user_rating_matrix[user_rating_matrix == np.nan] = 0\n",
    "    max_user_rating_matrix = k_max_indices(user_rating_matrix, 5)\n",
    "    m = []\n",
    "    for element in max_user_rating_matrix : \n",
    "        m.extend([[element, e] for e in knn(5, element)])\n",
    "    m_ = [s[u,v] for u,v in m]\n",
    "    m_ = k_max_indices(m_, k)[7:12]\n",
    "    m = [m[element] for element in m_]\n",
    "    recommended_movies_array = []\n",
    "    with open(os.path.join(root_dataset_folder, 'u.item'), 'r') as f : \n",
    "        data = f.read().split('\\n')\n",
    "        for movie in m : \n",
    "            recommended_movies_array.append(data[movie[1]].split('|')[1])\n",
    "    return recommended_movies_array"
   ]
  },
  {
   "cell_type": "code",
   "execution_count": 20,
   "metadata": {
    "collapsed": false,
    "deletable": true,
    "editable": true,
    "scrolled": true
   },
   "outputs": [
    {
     "data": {
      "text/plain": [
       "['Game, The (1997)',\n",
       " 'Tombstone (1993)',\n",
       " \"Singin' in the Rain (1952)\",\n",
       " 'My Fair Lady (1964)',\n",
       " 'Annie Hall (1977)']"
      ]
     },
     "execution_count": 20,
     "metadata": {},
     "output_type": "execute_result"
    }
   ],
   "source": [
    "recommend(104)"
   ]
  }
 ],
 "metadata": {
  "kernelspec": {
   "display_name": "Python 2",
   "language": "python",
   "name": "python2"
  },
  "language_info": {
   "codemirror_mode": {
    "name": "ipython",
    "version": 2
   },
   "file_extension": ".py",
   "mimetype": "text/x-python",
   "name": "python",
   "nbconvert_exporter": "python",
   "pygments_lexer": "ipython2",
   "version": "2.7.13"
  }
 },
 "nbformat": 4,
 "nbformat_minor": 2
}
